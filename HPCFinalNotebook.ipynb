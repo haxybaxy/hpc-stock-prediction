{
  "cells": [
    {
      "cell_type": "markdown",
      "metadata": {
        "id": "P8Dh634jDKko"
      },
      "source": [
        "# HPC Final Project: Stock Market Price Prediction with GPU Acceleration and Multi-Worker Strategy\n",
        "## Done by: Zaid Alsaheb, Sofia Vitorica, Sebastian Perilla, Laura Cuellar,Ismael Picazzo"
      ]
    },
    {
      "cell_type": "markdown",
      "metadata": {
        "id": "ZayY_BJNDnhv"
      },
      "source": [
        "# Importing Packages and Setting up AWS S3 Bucket"
      ]
    },
    {
      "cell_type": "code",
      "execution_count": 1,
      "metadata": {
        "colab": {
          "base_uri": "https://localhost:8080/"
        },
        "id": "bMZyTnZlhXwE",
        "outputId": "8d4cb8b4-6847-4aea-9c65-47b1dc6d3372"
      },
      "outputs": [
        {
          "name": "stdout",
          "output_type": "stream",
          "text": [
            "Collecting boto3\n",
            "  Downloading boto3-1.35.71-py3-none-any.whl.metadata (6.7 kB)\n",
            "Collecting botocore<1.36.0,>=1.35.71 (from boto3)\n",
            "  Downloading botocore-1.35.71-py3-none-any.whl.metadata (5.7 kB)\n",
            "Collecting jmespath<2.0.0,>=0.7.1 (from boto3)\n",
            "  Downloading jmespath-1.0.1-py3-none-any.whl.metadata (7.6 kB)\n",
            "Collecting s3transfer<0.11.0,>=0.10.0 (from boto3)\n",
            "  Downloading s3transfer-0.10.4-py3-none-any.whl.metadata (1.7 kB)\n",
            "Requirement already satisfied: python-dateutil<3.0.0,>=2.1 in /usr/local/lib/python3.10/dist-packages (from botocore<1.36.0,>=1.35.71->boto3) (2.8.2)\n",
            "Requirement already satisfied: urllib3!=2.2.0,<3,>=1.25.4 in /usr/local/lib/python3.10/dist-packages (from botocore<1.36.0,>=1.35.71->boto3) (2.2.3)\n",
            "Requirement already satisfied: six>=1.5 in /usr/local/lib/python3.10/dist-packages (from python-dateutil<3.0.0,>=2.1->botocore<1.36.0,>=1.35.71->boto3) (1.16.0)\n",
            "Downloading boto3-1.35.71-py3-none-any.whl (139 kB)\n",
            "\u001b[2K   \u001b[90m━━━━━━━━━━━━━━━━━━━━━━━━━━━━━━━━━━━━━━━━\u001b[0m \u001b[32m139.2/139.2 kB\u001b[0m \u001b[31m5.2 MB/s\u001b[0m eta \u001b[36m0:00:00\u001b[0m\n",
            "\u001b[?25hDownloading botocore-1.35.71-py3-none-any.whl (13.0 MB)\n",
            "\u001b[2K   \u001b[90m━━━━━━━━━━━━━━━━━━━━━━━━━━━━━━━━━━━━━━━━\u001b[0m \u001b[32m13.0/13.0 MB\u001b[0m \u001b[31m94.3 MB/s\u001b[0m eta \u001b[36m0:00:00\u001b[0m\n",
            "\u001b[?25hDownloading jmespath-1.0.1-py3-none-any.whl (20 kB)\n",
            "Downloading s3transfer-0.10.4-py3-none-any.whl (83 kB)\n",
            "\u001b[2K   \u001b[90m━━━━━━━━━━━━━━━━━━━━━━━━━━━━━━━━━━━━━━━━\u001b[0m \u001b[32m83.2/83.2 kB\u001b[0m \u001b[31m8.0 MB/s\u001b[0m eta \u001b[36m0:00:00\u001b[0m\n",
            "\u001b[?25hInstalling collected packages: jmespath, botocore, s3transfer, boto3\n",
            "Successfully installed boto3-1.35.71 botocore-1.35.71 jmespath-1.0.1 s3transfer-0.10.4\n",
            "Collecting pycuda\n",
            "  Downloading pycuda-2024.1.2.tar.gz (1.7 MB)\n",
            "\u001b[2K     \u001b[90m━━━━━━━━━━━━━━━━━━━━━━━━━━━━━━━━━━━━━━━━\u001b[0m \u001b[32m1.7/1.7 MB\u001b[0m \u001b[31m22.2 MB/s\u001b[0m eta \u001b[36m0:00:00\u001b[0m\n",
            "\u001b[?25h  Installing build dependencies ... \u001b[?25l\u001b[?25hdone\n",
            "  Getting requirements to build wheel ... \u001b[?25l\u001b[?25hdone\n",
            "  Preparing metadata (pyproject.toml) ... \u001b[?25l\u001b[?25hdone\n",
            "Collecting pytools>=2011.2 (from pycuda)\n",
            "  Downloading pytools-2024.1.17-py3-none-any.whl.metadata (2.9 kB)\n",
            "Requirement already satisfied: platformdirs>=2.2.0 in /usr/local/lib/python3.10/dist-packages (from pycuda) (4.3.6)\n",
            "Collecting mako (from pycuda)\n",
            "  Downloading Mako-1.3.6-py3-none-any.whl.metadata (2.9 kB)\n",
            "Requirement already satisfied: typing-extensions>=4 in /usr/local/lib/python3.10/dist-packages (from pytools>=2011.2->pycuda) (4.12.2)\n",
            "Requirement already satisfied: MarkupSafe>=0.9.2 in /usr/local/lib/python3.10/dist-packages (from mako->pycuda) (3.0.2)\n",
            "Downloading pytools-2024.1.17-py3-none-any.whl (89 kB)\n",
            "\u001b[2K   \u001b[90m━━━━━━━━━━━━━━━━━━━━━━━━━━━━━━━━━━━━━━━━\u001b[0m \u001b[32m89.3/89.3 kB\u001b[0m \u001b[31m9.2 MB/s\u001b[0m eta \u001b[36m0:00:00\u001b[0m\n",
            "\u001b[?25hDownloading Mako-1.3.6-py3-none-any.whl (78 kB)\n",
            "\u001b[2K   \u001b[90m━━━━━━━━━━━━━━━━━━━━━━━━━━━━━━━━━━━━━━━━\u001b[0m \u001b[32m78.6/78.6 kB\u001b[0m \u001b[31m8.0 MB/s\u001b[0m eta \u001b[36m0:00:00\u001b[0m\n",
            "\u001b[?25hBuilding wheels for collected packages: pycuda\n",
            "  Building wheel for pycuda (pyproject.toml) ... \u001b[?25l\u001b[?25hdone\n",
            "  Created wheel for pycuda: filename=pycuda-2024.1.2-cp310-cp310-linux_x86_64.whl size=660545 sha256=a90eb4ddf35691778082032ae91bdd05cadbe5e73a52287fb5c74fa4fd254972\n",
            "  Stored in directory: /root/.cache/pip/wheels/70/63/40/4bf006182f942d3516b71bb2ff3b57ccbdb8b2c0ee81882b6e\n",
            "Successfully built pycuda\n",
            "Installing collected packages: pytools, mako, pycuda\n",
            "Successfully installed mako-1.3.6 pycuda-2024.1.2 pytools-2024.1.17\n"
          ]
        }
      ],
      "source": [
        "# Install required packages\n",
        "!pip install boto3\n",
        "!pip install pycuda"
      ]
    },
    {
      "cell_type": "code",
      "execution_count": 2,
      "metadata": {
        "id": "0isHSeRThauK"
      },
      "outputs": [],
      "source": [
        "import os\n",
        "import boto3\n",
        "\n",
        "\n",
        "aws_access_key_id = 'xxxx'\n",
        "aws_secret_access_key = 'xxxx'\n",
        "aws_region = 'eu-west-1'\n",
        "s3_bucket_name = 'myhpcbucket-160903'\n",
        "\n",
        "\n",
        "# Initialize S3 client\n",
        "s3_client = boto3.client(\n",
        "    's3',\n",
        "    aws_access_key_id=aws_access_key_id,\n",
        "    aws_secret_access_key=aws_secret_access_key,\n",
        "    region_name=aws_region\n",
        ")"
      ]
    },
    {
      "cell_type": "code",
      "execution_count": 3,
      "metadata": {
        "id": "6PcitJkZr0pC"
      },
      "outputs": [],
      "source": [
        "import pandas as pd\n",
        "import numpy as np\n",
        "import matplotlib.pyplot as plt\n",
        "import pandas_datareader as data\n",
        "import yfinance as yf\n",
        "import tensorflow as tf\n",
        "import time\n",
        "import pycuda.driver as cuda\n",
        "import pycuda.autoinit\n",
        "from pycuda.compiler import SourceModule\n",
        "import boto3"
      ]
    },
    {
      "cell_type": "markdown",
      "metadata": {
        "id": "-uUTz4Z8DxC3"
      },
      "source": [
        "# Data Collection and Exploration"
      ]
    },
    {
      "cell_type": "code",
      "execution_count": 4,
      "metadata": {
        "colab": {
          "base_uri": "https://localhost:8080/"
        },
        "id": "RyPVLcerr3eW",
        "outputId": "96391c2e-dc74-4682-a671-efc27281c72e"
      },
      "outputs": [
        {
          "name": "stderr",
          "output_type": "stream",
          "text": [
            "\r[*********************100%***********************]  1 of 1 completed\n",
            "<ipython-input-4-a4e9049303ba>:6: PerformanceWarning: dropping on a non-lexsorted multi-index without a level parameter may impact performance.\n",
            "  df = df.drop(['Date', 'Adj Close'], axis=1)\n"
          ]
        },
        {
          "data": {
            "text/plain": [
              "(3522, 5)"
            ]
          },
          "execution_count": 4,
          "metadata": {},
          "output_type": "execute_result"
        }
      ],
      "source": [
        "ticker = \"GOOGL\"  # Google stock symbol\n",
        "start_date = \"2010-01-01\"\n",
        "end_date = \"2024-01-01\"\n",
        "df = yf.download(ticker, start=start_date, end=end_date)\n",
        "df = df.reset_index()\n",
        "df = df.drop(['Date', 'Adj Close'], axis=1)\n",
        "df.shape\n"
      ]
    },
    {
      "cell_type": "code",
      "execution_count": 5,
      "metadata": {
        "colab": {
          "base_uri": "https://localhost:8080/"
        },
        "id": "Z6OX22qjOhBa",
        "outputId": "7c56a035-55ff-4625-8e76-0c7edc6c316b"
      },
      "outputs": [
        {
          "data": {
            "text/plain": [
              "(3522, 5)"
            ]
          },
          "execution_count": 5,
          "metadata": {},
          "output_type": "execute_result"
        }
      ],
      "source": [
        "df.shape"
      ]
    },
    {
      "cell_type": "code",
      "execution_count": 6,
      "metadata": {
        "id": "OWfTST1oyw--"
      },
      "outputs": [],
      "source": [
        "ma100 = df.Close.rolling(100).mean()"
      ]
    },
    {
      "cell_type": "code",
      "execution_count": 7,
      "metadata": {
        "colab": {
          "base_uri": "https://localhost:8080/",
          "height": 563
        },
        "id": "IfKVdmOtyy7W",
        "outputId": "3dec6490-5aea-41f8-c5e5-1c9d2f1779dd"
      },
      "outputs": [
        {
          "data": {
            "text/plain": [
              "<matplotlib.legend.Legend at 0x782155515660>"
            ]
          },
          "execution_count": 7,
          "metadata": {},
          "output_type": "execute_result"
        },
        {
          "data": {
            "image/png": "[encoded data removed]",
            "text/plain": [
              "<Figure size 1000x600 with 1 Axes>"
            ]
          },
          "metadata": {},
          "output_type": "display_data"
        }
      ],
      "source": [
        "plt.figure(figsize = (10, 6))\n",
        "plt.title(\"Closing Price Vs Time Chart\")\n",
        "plt.plot(df.Close, 'r', label=\"Per Day Closing\")\n",
        "plt.plot(ma100, 'g', label=\"Moving Average 100\")\n",
        "plt.legend()"
      ]
    },
    {
      "cell_type": "code",
      "execution_count": 8,
      "metadata": {
        "id": "DRiOK37izen_"
      },
      "outputs": [],
      "source": [
        "ma200 = df.Close.rolling(200).mean()"
      ]
    },
    {
      "cell_type": "code",
      "execution_count": 9,
      "metadata": {
        "colab": {
          "base_uri": "https://localhost:8080/",
          "height": 563
        },
        "id": "jg3peOIPy98m",
        "outputId": "ca87fe24-8ce1-4f78-fbe5-d3485f6006ab"
      },
      "outputs": [
        {
          "data": {
            "text/plain": [
              "<matplotlib.legend.Legend at 0x782155557ee0>"
            ]
          },
          "execution_count": 9,
          "metadata": {},
          "output_type": "execute_result"
        },
        {
          "data": {
            "image/png": "[encoded data removed]",
            "text/plain": [
              "<Figure size 1000x600 with 1 Axes>"
            ]
          },
          "metadata": {},
          "output_type": "display_data"
        }
      ],
      "source": [
        "plt.figure(figsize = (10, 6))\n",
        "plt.title(\"Closing Price Vs Time Chart\")\n",
        "plt.plot(ma100, 'g', label=\"Moving Average 100\")\n",
        "plt.plot(ma200, 'b', label=\"Moving Average 200\")\n",
        "plt.legend()"
      ]
    },
    {
      "cell_type": "code",
      "execution_count": 23,
      "metadata": {
        "colab": {
          "base_uri": "https://localhost:8080/"
        },
        "id": "CyfvrvVezjmt",
        "outputId": "ef37f8fc-78dc-425b-e1b5-c02bdaf5c8e8"
      },
      "outputs": [
        {
          "name": "stdout",
          "output_type": "stream",
          "text": [
            "(2817, 1)\n",
            "(705, 1)\n"
          ]
        }
      ],
      "source": [
        "train_df = pd.DataFrame(df['Close'][0: int(len(df)*0.80)])\n",
        "test_df = pd.DataFrame(df['Close'][int(len(df)*0.80):int(len(df))])\n",
        "print(train_df.shape)\n",
        "print(test_df.shape)"
      ]
    },
    {
      "cell_type": "markdown",
      "metadata": {
        "id": "TTLFVXDVD4cU"
      },
      "source": [
        "# Data Preprocessing with Custom Kernel for Min-Max Scaling\n",
        "Faster and scales in parallel"
      ]
    },
    {
      "cell_type": "code",
      "execution_count": 24,
      "metadata": {
        "colab": {
          "base_uri": "https://localhost:8080/"
        },
        "id": "BuPF2uPl_KfA",
        "outputId": "88f7e1ee-6576-4e17-9ec0-7c930ac0cab8"
      },
      "outputs": [
        {
          "name": "stdout",
          "output_type": "stream",
          "text": [
            "Scaled Data (NumPy Array):\n",
            "[[0.05021947]\n",
            " [0.04949257]\n",
            " [0.04534975]\n",
            " ...\n",
            " [0.9566242 ]\n",
            " [0.990486  ]\n",
            " [0.9638912 ]]\n"
          ]
        }
      ],
      "source": [
        "# Define the CUDA kernel\n",
        "cuda_minmax_kernel = \"\"\"\n",
        "__global__ void min_max_scaler(float *data, float *min_vals, float *max_vals, int rows, int cols) {\n",
        "    int idx = threadIdx.x + blockIdx.x * blockDim.x;\n",
        "    int col = idx % cols;\n",
        "    int row = idx / cols;\n",
        "\n",
        "    if (row < rows && col < cols) {\n",
        "        float min_val = min_vals[col];\n",
        "        float max_val = max_vals[col];\n",
        "        data[idx] = (data[idx] - min_val) / (max_val - min_val);\n",
        "    }\n",
        "}\n",
        "\"\"\"\n",
        "\n",
        "mod = SourceModule(cuda_minmax_kernel)\n",
        "min_max_scaler = mod.get_function(\"min_max_scaler\")\n",
        "\n",
        "# Get rows and cols\n",
        "train_df1 = train_df.to_numpy().astype(np.float32)\n",
        "rows, cols = train_df1.shape\n",
        "\n",
        "# Calculate min and max values per column on the CPU\n",
        "min_vals = train_df1.min(axis=0).astype(np.float32)\n",
        "max_vals = train_df1.max(axis=0).astype(np.float32)\n",
        "\n",
        "# Allocate GPU memory and transfer data\n",
        "train_df_gpu = cuda.mem_alloc(train_df1.nbytes)\n",
        "cuda.memcpy_htod(train_df_gpu, train_df1)\n",
        "min_vals_gpu = cuda.mem_alloc(min_vals.nbytes)\n",
        "cuda.memcpy_htod(min_vals_gpu, min_vals)\n",
        "max_vals_gpu = cuda.mem_alloc(max_vals.nbytes)\n",
        "cuda.memcpy_htod(max_vals_gpu, max_vals)\n",
        "\n",
        "# Launch kernel\n",
        "threads_per_block = 256\n",
        "blocks_per_grid = (rows * cols + threads_per_block - 1) // threads_per_block\n",
        "min_max_scaler(train_df_gpu, min_vals_gpu, max_vals_gpu, np.int32(rows), np.int32(cols),\n",
        "               block=(threads_per_block, 1, 1), grid=(blocks_per_grid, 1))\n",
        "\n",
        "# Copy back the scaled data\n",
        "train_df_arr = np.empty_like(train_df1)\n",
        "cuda.memcpy_dtoh(train_df_arr, train_df_gpu)\n",
        "\n",
        "print(\"Scaled Data (NumPy Array):\")\n",
        "print(train_df_arr)"
      ]
    },
    {
      "cell_type": "code",
      "execution_count": 25,
      "metadata": {
        "colab": {
          "base_uri": "https://localhost:8080/"
        },
        "id": "qxX2xfeUzq51",
        "outputId": "48aaed22-06bf-4fef-914c-612e1acfb20e"
      },
      "outputs": [
        {
          "data": {
            "text/plain": [
              "((2717, 100, 1), (2717,))"
            ]
          },
          "execution_count": 25,
          "metadata": {},
          "output_type": "execute_result"
        }
      ],
      "source": [
        "# 80/20 train/test split\n",
        "x_train = []\n",
        "y_train = []\n",
        "for i in range(100, train_df_arr.shape[0]):\n",
        "    x_train.append(train_df_arr[i-100: i])\n",
        "    y_train.append(train_df_arr[i, 0])\n",
        "x_train, y_train = np.array(x_train), np.array(y_train)\n",
        "x_train.shape, y_train.shape"
      ]
    },
    {
      "cell_type": "markdown",
      "metadata": {
        "id": "bnWoWxqjEbKu"
      },
      "source": [
        "# Model Building"
      ]
    },
    {
      "cell_type": "code",
      "execution_count": 26,
      "metadata": {
        "id": "YhviAQHKFA58"
      },
      "outputs": [],
      "source": [
        "# Defining our LSTM\n",
        "from keras.layers import Dense, Dropout, LSTM\n",
        "from keras.models import Sequential\n",
        "\n",
        "model = Sequential()\n",
        "\n",
        "model.add(LSTM(units=50, activation='relu', return_sequences=True, input_shape=(x_train.shape[1], 1)))\n",
        "model.add(Dropout(0.2))\n",
        "\n",
        "model.add(LSTM(units=60, activation='relu', return_sequences=True))\n",
        "model.add(Dropout(0.3))\n",
        "\n",
        "model.add(LSTM(units=80, activation='relu', return_sequences=True))\n",
        "model.add(Dropout(0.4))\n",
        "\n",
        "model.add(LSTM(units=120, activation='relu'))\n",
        "model.add(Dropout(0.5))\n",
        "\n",
        "model.add(Dense(units=1))"
      ]
    },
    {
      "cell_type": "code",
      "execution_count": 27,
      "metadata": {
        "colab": {
          "base_uri": "https://localhost:8080/",
          "height": 430
        },
        "id": "7SuPrLQrzyt1",
        "outputId": "81b43faf-5bc2-4729-ef4e-9d80548dd50d"
      },
      "outputs": [
        {
          "data": {
            "text/html": [
              "<pre style=\"white-space:pre;overflow-x:auto;line-height:normal;font-family:Menlo,'DejaVu Sans Mono',consolas,'Courier New',monospace\"><span style=\"font-weight: bold\">Model: \"sequential_1\"</span>\n",
              "</pre>\n"
            ],
            "text/plain": [
              "\u001b[1mModel: \"sequential_1\"\u001b[0m\n"
            ]
          },
          "metadata": {},
          "output_type": "display_data"
        },
        {
          "data": {
            "text/html": [
              "<pre style=\"white-space:pre;overflow-x:auto;line-height:normal;font-family:Menlo,'DejaVu Sans Mono',consolas,'Courier New',monospace\">┏━━━━━━━━━━━━━━━━━━━━━━━━━━━━━━━━━━━━━━┳━━━━━━━━━━━━━━━━━━━━━━━━━━━━━┳━━━━━━━━━━━━━━━━━┓\n",
              "┃<span style=\"font-weight: bold\"> Layer (type)                         </span>┃<span style=\"font-weight: bold\"> Output Shape                </span>┃<span style=\"font-weight: bold\">         Param # </span>┃\n",
              "┡━━━━━━━━━━━━━━━━━━━━━━━━━━━━━━━━━━━━━━╇━━━━━━━━━━━━━━━━━━━━━━━━━━━━━╇━━━━━━━━━━━━━━━━━┩\n",
              "│ lstm_4 (<span style=\"color: #0087ff; text-decoration-color: #0087ff\">LSTM</span>)                        │ (<span style=\"color: #00d7ff; text-decoration-color: #00d7ff\">None</span>, <span style=\"color: #00af00; text-decoration-color: #00af00\">100</span>, <span style=\"color: #00af00; text-decoration-color: #00af00\">50</span>)             │          <span style=\"color: #00af00; text-decoration-color: #00af00\">10,400</span> │\n",
              "├──────────────────────────────────────┼─────────────────────────────┼─────────────────┤\n",
              "│ dropout_4 (<span style=\"color: #0087ff; text-decoration-color: #0087ff\">Dropout</span>)                  │ (<span style=\"color: #00d7ff; text-decoration-color: #00d7ff\">None</span>, <span style=\"color: #00af00; text-decoration-color: #00af00\">100</span>, <span style=\"color: #00af00; text-decoration-color: #00af00\">50</span>)             │               <span style=\"color: #00af00; text-decoration-color: #00af00\">0</span> │\n",
              "├──────────────────────────────────────┼─────────────────────────────┼─────────────────┤\n",
              "│ lstm_5 (<span style=\"color: #0087ff; text-decoration-color: #0087ff\">LSTM</span>)                        │ (<span style=\"color: #00d7ff; text-decoration-color: #00d7ff\">None</span>, <span style=\"color: #00af00; text-decoration-color: #00af00\">100</span>, <span style=\"color: #00af00; text-decoration-color: #00af00\">60</span>)             │          <span style=\"color: #00af00; text-decoration-color: #00af00\">26,640</span> │\n",
              "├──────────────────────────────────────┼─────────────────────────────┼─────────────────┤\n",
              "│ dropout_5 (<span style=\"color: #0087ff; text-decoration-color: #0087ff\">Dropout</span>)                  │ (<span style=\"color: #00d7ff; text-decoration-color: #00d7ff\">None</span>, <span style=\"color: #00af00; text-decoration-color: #00af00\">100</span>, <span style=\"color: #00af00; text-decoration-color: #00af00\">60</span>)             │               <span style=\"color: #00af00; text-decoration-color: #00af00\">0</span> │\n",
              "├──────────────────────────────────────┼─────────────────────────────┼─────────────────┤\n",
              "│ lstm_6 (<span style=\"color: #0087ff; text-decoration-color: #0087ff\">LSTM</span>)                        │ (<span style=\"color: #00d7ff; text-decoration-color: #00d7ff\">None</span>, <span style=\"color: #00af00; text-decoration-color: #00af00\">100</span>, <span style=\"color: #00af00; text-decoration-color: #00af00\">80</span>)             │          <span style=\"color: #00af00; text-decoration-color: #00af00\">45,120</span> │\n",
              "├──────────────────────────────────────┼─────────────────────────────┼─────────────────┤\n",
              "│ dropout_6 (<span style=\"color: #0087ff; text-decoration-color: #0087ff\">Dropout</span>)                  │ (<span style=\"color: #00d7ff; text-decoration-color: #00d7ff\">None</span>, <span style=\"color: #00af00; text-decoration-color: #00af00\">100</span>, <span style=\"color: #00af00; text-decoration-color: #00af00\">80</span>)             │               <span style=\"color: #00af00; text-decoration-color: #00af00\">0</span> │\n",
              "├──────────────────────────────────────┼─────────────────────────────┼─────────────────┤\n",
              "│ lstm_7 (<span style=\"color: #0087ff; text-decoration-color: #0087ff\">LSTM</span>)                        │ (<span style=\"color: #00d7ff; text-decoration-color: #00d7ff\">None</span>, <span style=\"color: #00af00; text-decoration-color: #00af00\">120</span>)                 │          <span style=\"color: #00af00; text-decoration-color: #00af00\">96,480</span> │\n",
              "├──────────────────────────────────────┼─────────────────────────────┼─────────────────┤\n",
              "│ dropout_7 (<span style=\"color: #0087ff; text-decoration-color: #0087ff\">Dropout</span>)                  │ (<span style=\"color: #00d7ff; text-decoration-color: #00d7ff\">None</span>, <span style=\"color: #00af00; text-decoration-color: #00af00\">120</span>)                 │               <span style=\"color: #00af00; text-decoration-color: #00af00\">0</span> │\n",
              "├──────────────────────────────────────┼─────────────────────────────┼─────────────────┤\n",
              "│ dense_1 (<span style=\"color: #0087ff; text-decoration-color: #0087ff\">Dense</span>)                      │ (<span style=\"color: #00d7ff; text-decoration-color: #00d7ff\">None</span>, <span style=\"color: #00af00; text-decoration-color: #00af00\">1</span>)                   │             <span style=\"color: #00af00; text-decoration-color: #00af00\">121</span> │\n",
              "└──────────────────────────────────────┴─────────────────────────────┴─────────────────┘\n",
              "</pre>\n"
            ],
            "text/plain": [
              "┏━━━━━━━━━━━━━━━━━━━━━━━━━━━━━━━━━━━━━━┳━━━━━━━━━━━━━━━━━━━━━━━━━━━━━┳━━━━━━━━━━━━━━━━━┓\n",
              "┃\u001b[1m \u001b[0m\u001b[1mLayer (type)                        \u001b[0m\u001b[1m \u001b[0m┃\u001b[1m \u001b[0m\u001b[1mOutput Shape               \u001b[0m\u001b[1m \u001b[0m┃\u001b[1m \u001b[0m\u001b[1m        Param #\u001b[0m\u001b[1m \u001b[0m┃\n",
              "┡━━━━━━━━━━━━━━━━━━━━━━━━━━━━━━━━━━━━━━╇━━━━━━━━━━━━━━━━━━━━━━━━━━━━━╇━━━━━━━━━━━━━━━━━┩\n",
              "│ lstm_4 (\u001b[38;5;33mLSTM\u001b[0m)                        │ (\u001b[38;5;45mNone\u001b[0m, \u001b[38;5;34m100\u001b[0m, \u001b[38;5;34m50\u001b[0m)             │          \u001b[38;5;34m10,400\u001b[0m │\n",
              "├──────────────────────────────────────┼─────────────────────────────┼─────────────────┤\n",
              "│ dropout_4 (\u001b[38;5;33mDropout\u001b[0m)                  │ (\u001b[38;5;45mNone\u001b[0m, \u001b[38;5;34m100\u001b[0m, \u001b[38;5;34m50\u001b[0m)             │               \u001b[38;5;34m0\u001b[0m │\n",
              "├──────────────────────────────────────┼─────────────────────────────┼─────────────────┤\n",
              "│ lstm_5 (\u001b[38;5;33mLSTM\u001b[0m)                        │ (\u001b[38;5;45mNone\u001b[0m, \u001b[38;5;34m100\u001b[0m, \u001b[38;5;34m60\u001b[0m)             │          \u001b[38;5;34m26,640\u001b[0m │\n",
              "├──────────────────────────────────────┼─────────────────────────────┼─────────────────┤\n",
              "│ dropout_5 (\u001b[38;5;33mDropout\u001b[0m)                  │ (\u001b[38;5;45mNone\u001b[0m, \u001b[38;5;34m100\u001b[0m, \u001b[38;5;34m60\u001b[0m)             │               \u001b[38;5;34m0\u001b[0m │\n",
              "├──────────────────────────────────────┼─────────────────────────────┼─────────────────┤\n",
              "│ lstm_6 (\u001b[38;5;33mLSTM\u001b[0m)                        │ (\u001b[38;5;45mNone\u001b[0m, \u001b[38;5;34m100\u001b[0m, \u001b[38;5;34m80\u001b[0m)             │          \u001b[38;5;34m45,120\u001b[0m │\n",
              "├──────────────────────────────────────┼─────────────────────────────┼─────────────────┤\n",
              "│ dropout_6 (\u001b[38;5;33mDropout\u001b[0m)                  │ (\u001b[38;5;45mNone\u001b[0m, \u001b[38;5;34m100\u001b[0m, \u001b[38;5;34m80\u001b[0m)             │               \u001b[38;5;34m0\u001b[0m │\n",
              "├──────────────────────────────────────┼─────────────────────────────┼─────────────────┤\n",
              "│ lstm_7 (\u001b[38;5;33mLSTM\u001b[0m)                        │ (\u001b[38;5;45mNone\u001b[0m, \u001b[38;5;34m120\u001b[0m)                 │          \u001b[38;5;34m96,480\u001b[0m │\n",
              "├──────────────────────────────────────┼─────────────────────────────┼─────────────────┤\n",
              "│ dropout_7 (\u001b[38;5;33mDropout\u001b[0m)                  │ (\u001b[38;5;45mNone\u001b[0m, \u001b[38;5;34m120\u001b[0m)                 │               \u001b[38;5;34m0\u001b[0m │\n",
              "├──────────────────────────────────────┼─────────────────────────────┼─────────────────┤\n",
              "│ dense_1 (\u001b[38;5;33mDense\u001b[0m)                      │ (\u001b[38;5;45mNone\u001b[0m, \u001b[38;5;34m1\u001b[0m)                   │             \u001b[38;5;34m121\u001b[0m │\n",
              "└──────────────────────────────────────┴─────────────────────────────┴─────────────────┘\n"
            ]
          },
          "metadata": {},
          "output_type": "display_data"
        },
        {
          "data": {
            "text/html": [
              "<pre style=\"white-space:pre;overflow-x:auto;line-height:normal;font-family:Menlo,'DejaVu Sans Mono',consolas,'Courier New',monospace\"><span style=\"font-weight: bold\"> Total params: </span><span style=\"color: #00af00; text-decoration-color: #00af00\">178,761</span> (698.29 KB)\n",
              "</pre>\n"
            ],
            "text/plain": [
              "\u001b[1m Total params: \u001b[0m\u001b[38;5;34m178,761\u001b[0m (698.29 KB)\n"
            ]
          },
          "metadata": {},
          "output_type": "display_data"
        },
        {
          "data": {
            "text/html": [
              "<pre style=\"white-space:pre;overflow-x:auto;line-height:normal;font-family:Menlo,'DejaVu Sans Mono',consolas,'Courier New',monospace\"><span style=\"font-weight: bold\"> Trainable params: </span><span style=\"color: #00af00; text-decoration-color: #00af00\">178,761</span> (698.29 KB)\n",
              "</pre>\n"
            ],
            "text/plain": [
              "\u001b[1m Trainable params: \u001b[0m\u001b[38;5;34m178,761\u001b[0m (698.29 KB)\n"
            ]
          },
          "metadata": {},
          "output_type": "display_data"
        },
        {
          "data": {
            "text/html": [
              "<pre style=\"white-space:pre;overflow-x:auto;line-height:normal;font-family:Menlo,'DejaVu Sans Mono',consolas,'Courier New',monospace\"><span style=\"font-weight: bold\"> Non-trainable params: </span><span style=\"color: #00af00; text-decoration-color: #00af00\">0</span> (0.00 B)\n",
              "</pre>\n"
            ],
            "text/plain": [
              "\u001b[1m Non-trainable params: \u001b[0m\u001b[38;5;34m0\u001b[0m (0.00 B)\n"
            ]
          },
          "metadata": {},
          "output_type": "display_data"
        }
      ],
      "source": [
        "model.summary()"
      ]
    },
    {
      "cell_type": "markdown",
      "metadata": {
        "id": "yxgf21ZGFJ_M"
      },
      "source": [
        "# GPU Mean Squared Error Calculation"
      ]
    },
    {
      "cell_type": "code",
      "execution_count": 28,
      "metadata": {
        "id": "9xzN84mXskmt"
      },
      "outputs": [],
      "source": [
        "# CUDA Kernel for Mean Squared Error Computation\n",
        "cuda_mse_kernel = \"\"\"\n",
        "__global__ void compute_mse(float *predictions, float *true_values, float *mse, int n) {\n",
        "    __shared__ float partial_sum[256];\n",
        "    int tid = threadIdx.x;\n",
        "    int i = blockIdx.x * blockDim.x + threadIdx.x;\n",
        "\n",
        "    float error = 0.0f;\n",
        "    if (i < n) {\n",
        "        error = predictions[i] - true_values[i];\n",
        "        error = error * error;\n",
        "    }\n",
        "\n",
        "    // Parallel reduction in shared memory\n",
        "    partial_sum[tid] = error;\n",
        "    __syncthreads();\n",
        "\n",
        "    for (int stride = blockDim.x/2; stride > 0; stride >>= 1) {\n",
        "        if (tid < stride) {\n",
        "            partial_sum[tid] += partial_sum[tid + stride];\n",
        "        }\n",
        "        __syncthreads();\n",
        "    }\n",
        "\n",
        "    // First thread writes the block's result\n",
        "    if (tid == 0) {\n",
        "        atomicAdd(mse, partial_sum[0] / n);\n",
        "    }\n",
        "}\n",
        "\"\"\"\n",
        "\n",
        "class PyCUDAMSEComputer:\n",
        "    def __init__(self, block_size=256):\n",
        "        \"\"\"\n",
        "        Initialize PyCUDA MSE Computer\n",
        "\n",
        "        Args:\n",
        "            block_size (int): CUDA block size for parallel computation\n",
        "        \"\"\"\n",
        "        self.block_size = block_size\n",
        "\n",
        "        # Compile CUDA kernel\n",
        "        self.mod = SourceModule(cuda_mse_kernel)\n",
        "        self.compute_mse_kernel = self.mod.get_function(\"compute_mse\")\n",
        "\n",
        "    def compute_mse_gpu(self, predictions, true_values):\n",
        "        \"\"\"\n",
        "        Compute Mean Squared Error using GPU\n",
        "\n",
        "        Args:\n",
        "            predictions (np.ndarray): Model predictions\n",
        "            true_values (np.ndarray): True target values\n",
        "\n",
        "        Returns:\n",
        "            float: Mean Squared Error\n",
        "        \"\"\"\n",
        "        # Flatten predictions and true_values to 1D array\n",
        "        predictions_flat = predictions.flatten().astype(np.float32)\n",
        "        true_values_flat = true_values.flatten().astype(np.float32)\n",
        "\n",
        "        # Check input compatibility\n",
        "        assert predictions_flat.shape == true_values_flat.shape, \"Flattened predictions and true values must have same shape\"\n",
        "\n",
        "        # Prepare GPU memory\n",
        "        n = len(predictions_flat)\n",
        "        grid_size = (n + self.block_size - 1) // self.block_size\n",
        "\n",
        "        # Allocate GPU memory\n",
        "        predictions_gpu = cuda.mem_alloc(predictions_flat.nbytes)\n",
        "        true_values_gpu = cuda.mem_alloc(true_values_flat.nbytes)\n",
        "        mse_gpu = cuda.mem_alloc(4)  # float size\n",
        "\n",
        "        # Copy data to GPU\n",
        "        cuda.memcpy_htod(predictions_gpu, predictions_flat)\n",
        "        cuda.memcpy_htod(true_values_gpu, true_values_flat)\n",
        "\n",
        "        # Initialize MSE to zero\n",
        "        mse = np.zeros(1, dtype=np.float32)\n",
        "        cuda.memcpy_htod(mse_gpu, mse)\n",
        "\n",
        "        # Call CUDA kernel\n",
        "        self.compute_mse_kernel(\n",
        "            predictions_gpu, true_values_gpu, mse_gpu, np.int32(n),\n",
        "            block=(self.block_size, 1, 1),\n",
        "            grid=(grid_size, 1)\n",
        "        )\n",
        "\n",
        "        # Copy result back to host\n",
        "        cuda.memcpy_dtoh(mse, mse_gpu)\n",
        "\n",
        "        return mse[0]"
      ]
    },
    {
      "cell_type": "markdown",
      "metadata": {
        "id": "xtfzvBgM4sSP"
      },
      "source": [
        "# GPU Averaging Model Weights"
      ]
    },
    {
      "cell_type": "code",
      "execution_count": 40,
      "metadata": {
        "id": "kr9_NNq7fEcn"
      },
      "outputs": [],
      "source": [
        "import numpy as np\n",
        "import pycuda.driver as cuda\n",
        "import pycuda.autoinit\n",
        "from pycuda.compiler import SourceModule\n",
        "import tensorflow as tf\n",
        "\n",
        "def average_models_weighted_gpu(current_model, other_models, other_mses, current_model_mse):\n",
        "    \"\"\"\n",
        "    Averages the current model with other models using weights based on MSE, utilizing a custom CUDA kernel.\n",
        "\n",
        "    This function combines the CUDA kernel definition, compilation, and execution into a single function for ease of use.\n",
        "\n",
        "    Args:\n",
        "        current_model (tf.keras.Model): The current worker's model.\n",
        "        other_models (list of tf.keras.Model): Models from other workers.\n",
        "        other_mses (list of float): Corresponding MSEs of the other models.\n",
        "        current_model_mse (float): MSE of the current model.\n",
        "\n",
        "    Returns:\n",
        "        None. The function updates the current_model's weights in place.\n",
        "    \"\"\"\n",
        "\n",
        "    # Define the CUDA kernel within the function\n",
        "    cuda_weighted_average_kernel = \"\"\"\n",
        "    extern \"C\" {\n",
        "__global__ void weighted_average_weights(\n",
        "    float* input,      // Flattened input weights from all models\n",
        "    float* weights,    // Weights based on inverse MSE\n",
        "    float* output,     // Output averaged weights\n",
        "    int num_models,    // Number of models\n",
        "    int num_elements   // Number of elements in each weight array\n",
        ") {\n",
        "    int idx = blockIdx.x * blockDim.x + threadIdx.x;\n",
        "    if (idx < num_elements) {\n",
        "        float sum = 0.0f;\n",
        "        for (int m = 0; m < num_models; ++m) {\n",
        "            sum += input[m * num_elements + idx] * weights[m];\n",
        "        }\n",
        "        output[idx] = sum;\n",
        "    }\n",
        "}\n",
        "}\n",
        "    \"\"\"\n",
        "\n",
        "    # Compile the CUDA kernel\n",
        "    mod = SourceModule(cuda_weighted_average_kernel)\n",
        "\n",
        "    # Get the kernel launch function\n",
        "    weighted_average_kernel = mod.get_function(\"weighted_average_weights\")\n",
        "\n",
        "    # Validate inputs\n",
        "    if len(other_models) != len(other_mses):\n",
        "        raise ValueError(\"Number of other_models must match number of other_mses.\")\n",
        "\n",
        "    # Compute weights: inverse of MSE\n",
        "    try:\n",
        "        inverse_mses = [1.0 / mse for mse in other_mses]\n",
        "        inverse_mses.append(1.0 / current_model_mse)\n",
        "    except ZeroDivisionError:\n",
        "        raise ValueError(\"One of the MSE values is zero, which is invalid for weight computation.\")\n",
        "\n",
        "    # Normalize weights so that they sum to 1\n",
        "    total_inverse = sum(inverse_mses)\n",
        "    if total_inverse == 0:\n",
        "        raise ValueError(\"Sum of inverse MSEs is zero, cannot normalize weights.\")\n",
        "    weights = [inv_mse / total_inverse for inv_mse in inverse_mses]\n",
        "\n",
        "    # Get weights from all models (current + others)\n",
        "    models = [current_model] + other_models\n",
        "    all_weights = [model.get_weights() for model in models]\n",
        "\n",
        "    # Initialize list to hold averaged weights\n",
        "    averaged_weights = []\n",
        "\n",
        "    # Iterate over each layer's weights\n",
        "    for weights_list_tuple in zip(*all_weights):\n",
        "        # Convert each weight array to float32\n",
        "        weight_arrays = [w.astype(np.float32) for w in weights_list_tuple]\n",
        "\n",
        "        # Stack and flatten the weight arrays\n",
        "        # Each model's weights are stacked sequentially\n",
        "        stacked_weights = np.stack(weight_arrays, axis=0).flatten().astype(np.float32)\n",
        "\n",
        "        num_models = len(models)\n",
        "        num_elements = stacked_weights.size // num_models\n",
        "\n",
        "        # Allocate GPU memory for input, weights, and output\n",
        "        d_input = cuda.mem_alloc(stacked_weights.nbytes)\n",
        "        d_weights = cuda.mem_alloc(np.array(weights, dtype=np.float32).nbytes)\n",
        "        d_output = cuda.mem_alloc(num_elements * 4)  # float32 has 4 bytes\n",
        "\n",
        "        # Copy data to GPU\n",
        "        cuda.memcpy_htod(d_input, stacked_weights)\n",
        "        cuda.memcpy_htod(d_weights, np.array(weights, dtype=np.float32))\n",
        "\n",
        "        # Launch the CUDA kernel\n",
        "        weighted_average_kernel(\n",
        "            d_input,\n",
        "            d_weights,\n",
        "            d_output,\n",
        "            np.int32(num_models),\n",
        "            np.int32(num_elements),\n",
        "            block=(256, 1, 1),\n",
        "            grid=((num_elements + 255) // 256, 1)\n",
        "        )\n",
        "\n",
        "        # Create an empty array to receive the output\n",
        "        averaged_flat = np.empty(num_elements, dtype=np.float32)\n",
        "\n",
        "        # Copy the averaged weights back to CPU\n",
        "        cuda.memcpy_dtoh(averaged_flat, d_output)\n",
        "\n",
        "        # Reshape to original weight shape\n",
        "        averaged_weight = averaged_flat.reshape(weight_arrays[0].shape)\n",
        "\n",
        "        # Append to averaged_weights list\n",
        "        averaged_weights.append(averaged_weight)\n",
        "\n",
        "        # Free GPU memory\n",
        "        d_input.free()\n",
        "        d_weights.free()\n",
        "        d_output.free()\n",
        "\n",
        "    # Set the averaged weights to the primary model\n",
        "    current_model.set_weights(averaged_weights)\n",
        "    print(\"Model weights averaged using custom CUDA kernel.\")\n",
        "    return\n"
      ]
    },
    {
      "cell_type": "markdown",
      "metadata": {
        "id": "f2Xgn4HeFTnP"
      },
      "source": [
        "# Functions to Synchronize Workers Using Shared Storage (AWS S3)"
      ]
    },
    {
      "cell_type": "code",
      "execution_count": 47,
      "metadata": {
        "id": "5AuqS1Sy5HfF"
      },
      "outputs": [],
      "source": [
        "def save_model_to_s3(model, s3_client, bucket_name, model_key):\n",
        "    \"\"\"\n",
        "    Save model to S3 with improved error handling\n",
        "\n",
        "    Args:\n",
        "        model (tf.keras.Model): Model to save\n",
        "        s3_client (boto3.client): S3 client\n",
        "        bucket_name (str): S3 bucket name\n",
        "        model_key (str): S3 object key\n",
        "    \"\"\"\n",
        "    try:\n",
        "        # Save model in newer Keras format\n",
        "        local_path = 'local_model.keras'\n",
        "        model.save(local_path)\n",
        "\n",
        "        # Upload to S3\n",
        "        try:\n",
        "            s3_client.upload_file(local_path, bucket_name, model_key)\n",
        "            print(f\"Model saved to S3 bucket '{bucket_name}' with key '{model_key}'.\")\n",
        "        except Exception as upload_error:\n",
        "            print(f\"S3 Upload Error: {upload_error}\")\n",
        "            print(\"Credentials or permissions might be incorrect.\")\n",
        "\n",
        "            # Additional debugging information\n",
        "            try:\n",
        "                # Check bucket existence\n",
        "                s3_client.head_bucket(Bucket=bucket_name)\n",
        "                print(f\"Bucket {bucket_name} exists.\")\n",
        "            except Exception as bucket_error:\n",
        "                print(f\"Bucket access error: {bucket_error}\")\n",
        "\n",
        "            # List buckets to verify credentials\n",
        "            try:\n",
        "                buckets = s3_client.list_buckets()\n",
        "                print(\"Available buckets:\")\n",
        "                for bucket in buckets['Buckets']:\n",
        "                    print(f\"- {bucket['Name']}\")\n",
        "            except Exception as list_error:\n",
        "                print(f\"Error listing buckets: {list_error}\")\n",
        "\n",
        "    except Exception as save_error:\n",
        "        print(f\"Model save error: {save_error}\")\n"
      ]
    },
    {
      "cell_type": "code",
      "execution_count": 46,
      "metadata": {
        "id": "sR_NFmETtgt-"
      },
      "outputs": [],
      "source": [
        "def load_model_from_s3(s3_client, bucket_name, model_key):\n",
        "    \"\"\"\n",
        "    Load model from S3 with improved error handling\n",
        "\n",
        "    Args:\n",
        "        s3_client (boto3.client): S3 client\n",
        "        bucket_name (str): S3 bucket name\n",
        "        model_key (str): S3 object key\n",
        "\n",
        "    Returns:\n",
        "        tf.keras.Model: Loaded model\n",
        "    \"\"\"\n",
        "    try:\n",
        "        local_path = 'downloaded_model.keras'\n",
        "\n",
        "        # Download with explicit error handling\n",
        "        try:\n",
        "            s3_client.download_file(bucket_name, model_key, local_path)\n",
        "        except Exception as download_error:\n",
        "            print(f\"S3 Download Error: {download_error}\")\n",
        "            print(\"Check if the object key is correct and you have read permissions.\")\n",
        "            raise\n",
        "\n",
        "        # Load model\n",
        "        model = tf.keras.models.load_model(local_path)\n",
        "        print(f\"Model loaded from S3 bucket '{bucket_name}' with key '{model_key}'.\")\n",
        "        return model\n",
        "\n",
        "    except Exception as load_error:\n",
        "        print(f\"Model load error: {load_error}\")\n",
        "        raise\n"
      ]
    },
    {
      "cell_type": "code",
      "execution_count": 45,
      "metadata": {
        "id": "-CYd374N5Jx_"
      },
      "outputs": [],
      "source": [
        "def verify_s3_credentials(s3_client):\n",
        "    \"\"\"\n",
        "    Verify AWS S3 credentials and access\n",
        "\n",
        "    Args:\n",
        "        s3_client (boto3.client): S3 client\n",
        "\n",
        "    Returns:\n",
        "        bool: True if credentials are valid, False otherwise\n",
        "    \"\"\"\n",
        "    try:\n",
        "        # List buckets to verify credentials\n",
        "        buckets = s3_client.list_buckets()\n",
        "        print(\"S3 Credentials Verified. Available buckets:\")\n",
        "        for bucket in buckets['Buckets']:\n",
        "            print(f\"- {bucket['Name']}\")\n",
        "        return True\n",
        "    except Exception as e:\n",
        "        print(f\"Credential Verification Failed: {e}\")\n",
        "        return False"
      ]
    },
    {
      "cell_type": "code",
      "execution_count": 32,
      "metadata": {
        "id": "_lmzcr7misGI"
      },
      "outputs": [],
      "source": [
        "def save_mse_to_s3(s3_client, bucket_name, mse_key, mse_value):\n",
        "    \"\"\"\n",
        "    Saves the MSE value to S3.\n",
        "\n",
        "    Args:\n",
        "        s3_client (boto3.client): Initialized S3 client.\n",
        "        bucket_name (str): Name of the S3 bucket.\n",
        "        mse_key (str): S3 object key for the MSE value.\n",
        "        mse_value (float): The MSE value to save.\n",
        "    \"\"\"\n",
        "    try:\n",
        "        with open('temp_mse.txt', 'w') as f:\n",
        "            f.write(str(mse_value))\n",
        "        s3_client.upload_file('temp_mse.txt', bucket_name, mse_key)\n",
        "        print(f\"MSE saved to S3 as {mse_key}.\")\n",
        "    except Exception as e:\n",
        "        print(f\"Error saving MSE to S3: {e}\")\n"
      ]
    },
    {
      "cell_type": "code",
      "execution_count": 33,
      "metadata": {
        "id": "HOY3uIsJis9e"
      },
      "outputs": [],
      "source": [
        "def load_mse_from_s3(s3_client, bucket_name, mse_key):\n",
        "    \"\"\"\n",
        "    Loads the MSE value from S3.\n",
        "\n",
        "    Args:\n",
        "        s3_client (boto3.client): Initialized S3 client.\n",
        "        bucket_name (str): Name of the S3 bucket.\n",
        "        mse_key (str): S3 object key for the MSE value.\n",
        "\n",
        "    Returns:\n",
        "        float: The loaded MSE value.\n",
        "    \"\"\"\n",
        "    try:\n",
        "        s3_client.download_file(bucket_name, mse_key, 'temp_other_mse.txt')\n",
        "        with open('temp_other_mse.txt', 'r') as f:\n",
        "            mse = float(f.read())\n",
        "        print(f\"MSE {mse_key} loaded from S3.\")\n",
        "        return mse\n",
        "    except Exception as e:\n",
        "        print(f\"Error loading MSE from S3: {e}\")\n",
        "        raise\n"
      ]
    },
    {
      "cell_type": "code",
      "execution_count": 34,
      "metadata": {
        "id": "ajH8k8l0zCLA"
      },
      "outputs": [],
      "source": [
        "def check_model_architecture(models):\n",
        "    \"\"\"\n",
        "    Checks if all models have the same architecture.\n",
        "\n",
        "    Args:\n",
        "        models (list of tf.keras.Model): List of models to check.\n",
        "\n",
        "    Raises:\n",
        "        ValueError: If any model has a different architecture.\n",
        "    \"\"\"\n",
        "    base_config = models[0].get_config()\n",
        "    for model in models[1:]:\n",
        "        if model.get_config() != base_config:\n",
        "            raise ValueError(\"All models must have the same architecture for synchronization.\")\n"
      ]
    },
    {
      "cell_type": "markdown",
      "metadata": {
        "id": "ZU1xgboWFkSO"
      },
      "source": [
        "# Callback to Synchronize Workers Every 5 Epochs"
      ]
    },
    {
      "cell_type": "code",
      "execution_count": 37,
      "metadata": {
        "id": "aqjhw3ljFkyj"
      },
      "outputs": [],
      "source": [
        "import tensorflow as tf\n",
        "\n",
        "class PyCUDASynchronizationCallback(tf.keras.callbacks.Callback):\n",
        "    def __init__(self,\n",
        "                 worker_id,\n",
        "                 s3_client,\n",
        "                 bucket_name,\n",
        "                 sync_epochs=5,\n",
        "                 mse_computer=None):\n",
        "        \"\"\"\n",
        "        Initialize synchronization callback with S3 integration and GPU acceleration.\n",
        "\n",
        "        Args:\n",
        "            worker_id (str): Unique identifier for the worker.\n",
        "            s3_client (boto3.client): Initialized S3 client.\n",
        "            bucket_name (str): Name of the S3 bucket.\n",
        "            sync_epochs (int): Frequency of synchronization in epochs.\n",
        "            mse_computer (PyCUDAMSEComputer): Optional custom MSE computer.\n",
        "        \"\"\"\n",
        "        super(PyCUDASynchronizationCallback, self).__init__()\n",
        "        self.worker_id = worker_id\n",
        "        self.s3_client = s3_client\n",
        "        self.bucket_name = bucket_name\n",
        "        self.sync_epochs = sync_epochs\n",
        "        self.mse_computer = mse_computer or PyCUDAMSEComputer()\n",
        "\n",
        "    def on_epoch_end(self, epoch, logs=None):\n",
        "        \"\"\"\n",
        "        Callback method for epoch end with S3 synchronization.\n",
        "\n",
        "        Args:\n",
        "            epoch (int): Current training epoch.\n",
        "            logs (dict): Logs from the training process.\n",
        "        \"\"\"\n",
        "        if (epoch + 1) % self.sync_epochs != 0:\n",
        "            return\n",
        "\n",
        "        print(f\"\\nEpoch {epoch+1}: Starting model synchronization.\")\n",
        "\n",
        "        try:\n",
        "            # Predict on training data\n",
        "            predictions = self.model.predict(x_train)\n",
        "\n",
        "            # Compute GPU-accelerated MSE\n",
        "            gpu_mse = self.mse_computer.compute_mse_gpu(predictions, y_train)\n",
        "            print(f\"GPU-Accelerated MSE at epoch {epoch+1}: {gpu_mse}\")\n",
        "\n",
        "            # Save current model to S3\n",
        "            model_key = f\"model_checkpoints/{self.worker_id}_epoch_{epoch+1}.keras\"\n",
        "            save_model_to_s3(self.model, self.s3_client, self.bucket_name, model_key)\n",
        "\n",
        "            # Save MSE to S3\n",
        "            mse_key = f\"model_checkpoints/{self.worker_id}_epoch_{epoch+1}_mse.txt\"\n",
        "            save_mse_to_s3(self.s3_client, self.bucket_name, mse_key, gpu_mse)\n",
        "\n",
        "            # Retrieve other models and their MSEs from S3\n",
        "            response = self.s3_client.list_objects_v2(\n",
        "                Bucket=self.bucket_name,\n",
        "                Prefix='model_checkpoints/'\n",
        "            )\n",
        "\n",
        "            if 'Contents' not in response:\n",
        "                print(\"No models found in the specified S3 bucket.\")\n",
        "                return\n",
        "\n",
        "            other_model_keys = []\n",
        "            other_mse_keys = []\n",
        "            for obj in response.get('Contents', []):\n",
        "                key = obj['Key']\n",
        "                # Exclude current worker's models and averaged models\n",
        "                if self.worker_id not in key and \"averaged\" not in key and f\"epoch_{epoch+1}.keras\" in key:\n",
        "                    other_model_keys.append(key)\n",
        "                if key.endswith(f'{epoch+1}_mse.txt'):\n",
        "                      other_mse_keys.append(key)\n",
        "\n",
        "            other_models = []\n",
        "            other_mses = []\n",
        "            for model_key, mse_key in zip(other_model_keys, other_mse_keys):\n",
        "                # Load the model\n",
        "                other_model = load_model_from_s3(\n",
        "                    self.s3_client,\n",
        "                    self.bucket_name,\n",
        "                    model_key\n",
        "                )\n",
        "                other_models.append(other_model)\n",
        "\n",
        "                # Load the MSE\n",
        "                other_mse = load_mse_from_s3(\n",
        "                    self.s3_client,\n",
        "                    self.bucket_name,\n",
        "                    mse_key\n",
        "                )\n",
        "                other_mses.append(other_mse)\n",
        "\n",
        "            # Current model's MSE\n",
        "            current_model_mse = gpu_mse\n",
        "\n",
        "            if other_models:\n",
        "\n",
        "                # Perform weighted averaging using GPU\n",
        "                average_models_weighted_gpu(\n",
        "                    current_model=self.model,\n",
        "                    other_models=other_models,\n",
        "                    other_mses=other_mses,\n",
        "                    current_model_mse=current_model_mse\n",
        "                )\n",
        "\n",
        "                # Save averaged model to S3\n",
        "                averaged_model_key = f\"model_checkpoints/averaged_epoch_{epoch+1}.keras\"\n",
        "                save_model_to_s3(self.model, self.s3_client, self.bucket_name, averaged_model_key)\n",
        "                print(f\"Models synchronized and averaged at epoch {epoch+1}.\")\n",
        "            else:\n",
        "                print(\"No other models found for synchronization.\")\n",
        "\n",
        "        except Exception as sync_error:\n",
        "            print(f\"Synchronization error at epoch {epoch+1}: {sync_error}\")\n"
      ]
    },
    {
      "cell_type": "markdown",
      "metadata": {
        "id": "cwILrdVRF0Xq"
      },
      "source": [
        "# Training the Model"
      ]
    },
    {
      "cell_type": "code",
      "execution_count": 41,
      "metadata": {
        "colab": {
          "base_uri": "https://localhost:8080/"
        },
        "id": "W6a6URjKtk5S",
        "outputId": "389c9125-2319-4ff7-91db-45d3a52d403a"
      },
      "outputs": [
        {
          "name": "stdout",
          "output_type": "stream",
          "text": [
            "S3 Credentials Verified. Available buckets:\n",
            "- aws-cloudtrail-logs-657762149587-de790a22\n",
            "- aws-cloudtrail-logs-657762149587-fc1656ec\n",
            "- myhpcbucket-160903\n",
            "Epoch 1/50\n",
            "\u001b[1m85/85\u001b[0m \u001b[32m━━━━━━━━━━━━━━━━━━━━\u001b[0m\u001b[37m\u001b[0m \u001b[1m17s\u001b[0m 95ms/step - loss: 0.0033\n",
            "Epoch 2/50\n",
            "\u001b[1m85/85\u001b[0m \u001b[32m━━━━━━━━━━━━━━━━━━━━\u001b[0m\u001b[37m\u001b[0m \u001b[1m4s\u001b[0m 49ms/step - loss: 0.0023\n",
            "Epoch 3/50\n",
            "\u001b[1m85/85\u001b[0m \u001b[32m━━━━━━━━━━━━━━━━━━━━\u001b[0m\u001b[37m\u001b[0m \u001b[1m4s\u001b[0m 43ms/step - loss: 0.0023\n",
            "Epoch 4/50\n",
            "\u001b[1m85/85\u001b[0m \u001b[32m━━━━━━━━━━━━━━━━━━━━\u001b[0m\u001b[37m\u001b[0m \u001b[1m5s\u001b[0m 43ms/step - loss: 0.0025\n",
            "Epoch 5/50\n",
            "\u001b[1m85/85\u001b[0m \u001b[32m━━━━━━━━━━━━━━━━━━━━\u001b[0m\u001b[37m\u001b[0m \u001b[1m0s\u001b[0m 46ms/step - loss: 0.0020\n",
            "Epoch 5: Starting model synchronization.\n",
            "\u001b[1m85/85\u001b[0m \u001b[32m━━━━━━━━━━━━━━━━━━━━\u001b[0m\u001b[37m\u001b[0m \u001b[1m21s\u001b[0m 242ms/step\n",
            "GPU-Accelerated MSE at epoch 5: 0.000659699784591794\n",
            "Model saved to S3 bucket 'myhpcbucket-160903' with key 'model_checkpoints/worker_1_epoch_5.keras'.\n",
            "MSE saved to S3 as model_checkpoints/worker_1_epoch_5_mse.txt.\n",
            "Model loaded from S3 bucket 'myhpcbucket-160903' with key 'model_checkpoints/worker_0_epoch_5.keras'.\n",
            "MSE model_checkpoints/worker_0_epoch_15_mse.txt loaded from S3.\n",
            "Model weights averaged using custom CUDA kernel.\n",
            "Model saved to S3 bucket 'myhpcbucket-160903' with key 'model_checkpoints/averaged_epoch_5.keras'.\n",
            "Models synchronized and averaged at epoch 5.\n",
            "\u001b[1m85/85\u001b[0m \u001b[32m━━━━━━━━━━━━━━━━━━━━\u001b[0m\u001b[37m\u001b[0m \u001b[1m32s\u001b[0m 364ms/step - loss: 0.0021\n",
            "Epoch 6/50\n",
            "\u001b[1m85/85\u001b[0m \u001b[32m━━━━━━━━━━━━━━━━━━━━\u001b[0m\u001b[37m\u001b[0m \u001b[1m14s\u001b[0m 44ms/step - loss: 0.0108\n",
            "Epoch 7/50\n",
            "\u001b[1m85/85\u001b[0m \u001b[32m━━━━━━━━━━━━━━━━━━━━\u001b[0m\u001b[37m\u001b[0m \u001b[1m4s\u001b[0m 44ms/step - loss: 0.0026\n",
            "Epoch 8/50\n",
            "\u001b[1m85/85\u001b[0m \u001b[32m━━━━━━━━━━━━━━━━━━━━\u001b[0m\u001b[37m\u001b[0m \u001b[1m4s\u001b[0m 47ms/step - loss: 0.0021\n",
            "Epoch 9/50\n",
            "\u001b[1m85/85\u001b[0m \u001b[32m━━━━━━━━━━━━━━━━━━━━\u001b[0m\u001b[37m\u001b[0m \u001b[1m5s\u001b[0m 43ms/step - loss: 0.0022\n",
            "Epoch 10/50\n",
            "\u001b[1m85/85\u001b[0m \u001b[32m━━━━━━━━━━━━━━━━━━━━\u001b[0m\u001b[37m\u001b[0m \u001b[1m0s\u001b[0m 44ms/step - loss: 0.0022\n",
            "Epoch 10: Starting model synchronization.\n",
            "\u001b[1m85/85\u001b[0m \u001b[32m━━━━━━━━━━━━━━━━━━━━\u001b[0m\u001b[37m\u001b[0m \u001b[1m2s\u001b[0m 20ms/step\n",
            "GPU-Accelerated MSE at epoch 10: 0.0008617650019004941\n",
            "Model saved to S3 bucket 'myhpcbucket-160903' with key 'model_checkpoints/worker_1_epoch_10.keras'.\n",
            "MSE saved to S3 as model_checkpoints/worker_1_epoch_10_mse.txt.\n",
            "Model loaded from S3 bucket 'myhpcbucket-160903' with key 'model_checkpoints/worker_0_epoch_10.keras'.\n",
            "MSE model_checkpoints/worker_0_epoch_10_mse.txt loaded from S3.\n",
            "Model weights averaged using custom CUDA kernel.\n",
            "Model saved to S3 bucket 'myhpcbucket-160903' with key 'model_checkpoints/averaged_epoch_10.keras'.\n",
            "Models synchronized and averaged at epoch 10.\n",
            "\u001b[1m85/85\u001b[0m \u001b[32m━━━━━━━━━━━━━━━━━━━━\u001b[0m\u001b[37m\u001b[0m \u001b[1m11s\u001b[0m 131ms/step - loss: 0.0022\n",
            "Epoch 11/50\n",
            "\u001b[1m85/85\u001b[0m \u001b[32m━━━━━━━━━━━━━━━━━━━━\u001b[0m\u001b[37m\u001b[0m \u001b[1m13s\u001b[0m 44ms/step - loss: 0.0021\n",
            "Epoch 12/50\n",
            "\u001b[1m85/85\u001b[0m \u001b[32m━━━━━━━━━━━━━━━━━━━━\u001b[0m\u001b[37m\u001b[0m \u001b[1m4s\u001b[0m 44ms/step - loss: 0.0020\n",
            "Epoch 13/50\n",
            "\u001b[1m85/85\u001b[0m \u001b[32m━━━━━━━━━━━━━━━━━━━━\u001b[0m\u001b[37m\u001b[0m \u001b[1m5s\u001b[0m 43ms/step - loss: 0.0022\n",
            "Epoch 14/50\n",
            "\u001b[1m85/85\u001b[0m \u001b[32m━━━━━━━━━━━━━━━━━━━━\u001b[0m\u001b[37m\u001b[0m \u001b[1m5s\u001b[0m 43ms/step - loss: 0.0018\n",
            "Epoch 15/50\n",
            "\u001b[1m85/85\u001b[0m \u001b[32m━━━━━━━━━━━━━━━━━━━━\u001b[0m\u001b[37m\u001b[0m \u001b[1m0s\u001b[0m 48ms/step - loss: 0.0019\n",
            "Epoch 15: Starting model synchronization.\n",
            "\u001b[1m85/85\u001b[0m \u001b[32m━━━━━━━━━━━━━━━━━━━━\u001b[0m\u001b[37m\u001b[0m \u001b[1m1s\u001b[0m 15ms/step\n",
            "GPU-Accelerated MSE at epoch 15: 0.0005994911771267653\n",
            "Model saved to S3 bucket 'myhpcbucket-160903' with key 'model_checkpoints/worker_1_epoch_15.keras'.\n",
            "MSE saved to S3 as model_checkpoints/worker_1_epoch_15_mse.txt.\n",
            "Model loaded from S3 bucket 'myhpcbucket-160903' with key 'model_checkpoints/worker_0_epoch_15.keras'.\n",
            "MSE model_checkpoints/worker_0_epoch_15_mse.txt loaded from S3.\n",
            "Model weights averaged using custom CUDA kernel.\n",
            "Model saved to S3 bucket 'myhpcbucket-160903' with key 'model_checkpoints/averaged_epoch_15.keras'.\n",
            "Models synchronized and averaged at epoch 15.\n",
            "\u001b[1m85/85\u001b[0m \u001b[32m━━━━━━━━━━━━━━━━━━━━\u001b[0m\u001b[37m\u001b[0m \u001b[1m12s\u001b[0m 123ms/step - loss: 0.0019\n",
            "Epoch 16/50\n",
            "\u001b[1m85/85\u001b[0m \u001b[32m━━━━━━━━━━━━━━━━━━━━\u001b[0m\u001b[37m\u001b[0m \u001b[1m14s\u001b[0m 46ms/step - loss: 0.0019\n",
            "Epoch 17/50\n",
            "\u001b[1m85/85\u001b[0m \u001b[32m━━━━━━━━━━━━━━━━━━━━\u001b[0m\u001b[37m\u001b[0m \u001b[1m5s\u001b[0m 45ms/step - loss: 0.0018\n",
            "Epoch 18/50\n",
            "\u001b[1m85/85\u001b[0m \u001b[32m━━━━━━━━━━━━━━━━━━━━\u001b[0m\u001b[37m\u001b[0m \u001b[1m4s\u001b[0m 43ms/step - loss: 0.0020\n",
            "Epoch 19/50\n",
            "\u001b[1m85/85\u001b[0m \u001b[32m━━━━━━━━━━━━━━━━━━━━\u001b[0m\u001b[37m\u001b[0m \u001b[1m7s\u001b[0m 70ms/step - loss: 0.0019\n",
            "Epoch 20/50\n",
            "\u001b[1m85/85\u001b[0m \u001b[32m━━━━━━━━━━━━━━━━━━━━\u001b[0m\u001b[37m\u001b[0m \u001b[1m0s\u001b[0m 44ms/step - loss: 0.0018\n",
            "Epoch 20: Starting model synchronization.\n",
            "\u001b[1m85/85\u001b[0m \u001b[32m━━━━━━━━━━━━━━━━━━━━\u001b[0m\u001b[37m\u001b[0m \u001b[1m2s\u001b[0m 18ms/step\n",
            "GPU-Accelerated MSE at epoch 20: 0.0008015382336452603\n",
            "Model saved to S3 bucket 'myhpcbucket-160903' with key 'model_checkpoints/worker_1_epoch_20.keras'.\n",
            "MSE saved to S3 as model_checkpoints/worker_1_epoch_20_mse.txt.\n",
            "Model loaded from S3 bucket 'myhpcbucket-160903' with key 'model_checkpoints/worker_0_epoch_20.keras'.\n",
            "MSE model_checkpoints/worker_0_epoch_20_mse.txt loaded from S3.\n",
            "Model weights averaged using custom CUDA kernel.\n",
            "Model saved to S3 bucket 'myhpcbucket-160903' with key 'model_checkpoints/averaged_epoch_20.keras'.\n",
            "Models synchronized and averaged at epoch 20.\n",
            "\u001b[1m85/85\u001b[0m \u001b[32m━━━━━━━━━━━━━━━━━━━━\u001b[0m\u001b[37m\u001b[0m \u001b[1m17s\u001b[0m 145ms/step - loss: 0.0018\n",
            "Epoch 21/50\n",
            "\u001b[1m85/85\u001b[0m \u001b[32m━━━━━━━━━━━━━━━━━━━━\u001b[0m\u001b[37m\u001b[0m \u001b[1m12s\u001b[0m 45ms/step - loss: 0.0018\n",
            "Epoch 22/50\n",
            "\u001b[1m85/85\u001b[0m \u001b[32m━━━━━━━━━━━━━━━━━━━━\u001b[0m\u001b[37m\u001b[0m \u001b[1m4s\u001b[0m 44ms/step - loss: 0.0018\n",
            "Epoch 23/50\n",
            "\u001b[1m85/85\u001b[0m \u001b[32m━━━━━━━━━━━━━━━━━━━━\u001b[0m\u001b[37m\u001b[0m \u001b[1m4s\u001b[0m 49ms/step - loss: 0.0016\n",
            "Epoch 24/50\n",
            "\u001b[1m85/85\u001b[0m \u001b[32m━━━━━━━━━━━━━━━━━━━━\u001b[0m\u001b[37m\u001b[0m \u001b[1m4s\u001b[0m 44ms/step - loss: 0.0019\n",
            "Epoch 25/50\n",
            "\u001b[1m85/85\u001b[0m \u001b[32m━━━━━━━━━━━━━━━━━━━━\u001b[0m\u001b[37m\u001b[0m \u001b[1m0s\u001b[0m 52ms/step - loss: 0.0014\n",
            "Epoch 25: Starting model synchronization.\n",
            "\u001b[1m85/85\u001b[0m \u001b[32m━━━━━━━━━━━━━━━━━━━━\u001b[0m\u001b[37m\u001b[0m \u001b[1m2s\u001b[0m 25ms/step\n",
            "GPU-Accelerated MSE at epoch 25: 0.0006476374110206962\n",
            "Model saved to S3 bucket 'myhpcbucket-160903' with key 'model_checkpoints/worker_1_epoch_25.keras'.\n",
            "MSE saved to S3 as model_checkpoints/worker_1_epoch_25_mse.txt.\n",
            "Model loaded from S3 bucket 'myhpcbucket-160903' with key 'model_checkpoints/worker_0_epoch_25.keras'.\n",
            "MSE model_checkpoints/worker_0_epoch_25_mse.txt loaded from S3.\n",
            "Model weights averaged using custom CUDA kernel.\n",
            "Model saved to S3 bucket 'myhpcbucket-160903' with key 'model_checkpoints/averaged_epoch_25.keras'.\n",
            "Models synchronized and averaged at epoch 25.\n",
            "\u001b[1m85/85\u001b[0m \u001b[32m━━━━━━━━━━━━━━━━━━━━\u001b[0m\u001b[37m\u001b[0m \u001b[1m13s\u001b[0m 140ms/step - loss: 0.0014\n",
            "Epoch 26/50\n",
            "\u001b[1m85/85\u001b[0m \u001b[32m━━━━━━━━━━━━━━━━━━━━\u001b[0m\u001b[37m\u001b[0m \u001b[1m4s\u001b[0m 45ms/step - loss: 0.0016\n",
            "Epoch 27/50\n",
            "\u001b[1m85/85\u001b[0m \u001b[32m━━━━━━━━━━━━━━━━━━━━\u001b[0m\u001b[37m\u001b[0m \u001b[1m4s\u001b[0m 49ms/step - loss: 0.0016\n",
            "Epoch 28/50\n",
            "\u001b[1m85/85\u001b[0m \u001b[32m━━━━━━━━━━━━━━━━━━━━\u001b[0m\u001b[37m\u001b[0m \u001b[1m5s\u001b[0m 46ms/step - loss: 0.0017\n",
            "Epoch 29/50\n",
            "\u001b[1m85/85\u001b[0m \u001b[32m━━━━━━━━━━━━━━━━━━━━\u001b[0m\u001b[37m\u001b[0m \u001b[1m4s\u001b[0m 43ms/step - loss: 0.0016\n",
            "Epoch 30/50\n",
            "\u001b[1m85/85\u001b[0m \u001b[32m━━━━━━━━━━━━━━━━━━━━\u001b[0m\u001b[37m\u001b[0m \u001b[1m0s\u001b[0m 48ms/step - loss: 0.0016\n",
            "Epoch 30: Starting model synchronization.\n",
            "\u001b[1m85/85\u001b[0m \u001b[32m━━━━━━━━━━━━━━━━━━━━\u001b[0m\u001b[37m\u001b[0m \u001b[1m1s\u001b[0m 16ms/step\n",
            "GPU-Accelerated MSE at epoch 30: 0.000697254145052284\n",
            "Model saved to S3 bucket 'myhpcbucket-160903' with key 'model_checkpoints/worker_1_epoch_30.keras'.\n",
            "MSE saved to S3 as model_checkpoints/worker_1_epoch_30_mse.txt.\n",
            "Model loaded from S3 bucket 'myhpcbucket-160903' with key 'model_checkpoints/worker_0_epoch_30.keras'.\n",
            "MSE model_checkpoints/worker_0_epoch_30_mse.txt loaded from S3.\n",
            "Model weights averaged using custom CUDA kernel.\n",
            "Model saved to S3 bucket 'myhpcbucket-160903' with key 'model_checkpoints/averaged_epoch_30.keras'.\n",
            "Models synchronized and averaged at epoch 30.\n",
            "\u001b[1m85/85\u001b[0m \u001b[32m━━━━━━━━━━━━━━━━━━━━\u001b[0m\u001b[37m\u001b[0m \u001b[1m10s\u001b[0m 120ms/step - loss: 0.0016\n",
            "Epoch 31/50\n",
            "\u001b[1m85/85\u001b[0m \u001b[32m━━━━━━━━━━━━━━━━━━━━\u001b[0m\u001b[37m\u001b[0m \u001b[1m4s\u001b[0m 44ms/step - loss: 0.0015\n",
            "Epoch 32/50\n",
            "\u001b[1m85/85\u001b[0m \u001b[32m━━━━━━━━━━━━━━━━━━━━\u001b[0m\u001b[37m\u001b[0m \u001b[1m5s\u001b[0m 46ms/step - loss: 0.0014\n",
            "Epoch 33/50\n",
            "\u001b[1m85/85\u001b[0m \u001b[32m━━━━━━━━━━━━━━━━━━━━\u001b[0m\u001b[37m\u001b[0m \u001b[1m5s\u001b[0m 43ms/step - loss: 0.0018\n",
            "Epoch 34/50\n",
            "\u001b[1m85/85\u001b[0m \u001b[32m━━━━━━━━━━━━━━━━━━━━\u001b[0m\u001b[37m\u001b[0m \u001b[1m6s\u001b[0m 49ms/step - loss: 0.0018\n",
            "Epoch 35/50\n",
            "\u001b[1m85/85\u001b[0m \u001b[32m━━━━━━━━━━━━━━━━━━━━\u001b[0m\u001b[37m\u001b[0m \u001b[1m0s\u001b[0m 43ms/step - loss: 0.0015\n",
            "Epoch 35: Starting model synchronization.\n",
            "\u001b[1m85/85\u001b[0m \u001b[32m━━━━━━━━━━━━━━━━━━━━\u001b[0m\u001b[37m\u001b[0m \u001b[1m1s\u001b[0m 15ms/step\n",
            "GPU-Accelerated MSE at epoch 35: 0.0009485559421591461\n",
            "Model saved to S3 bucket 'myhpcbucket-160903' with key 'model_checkpoints/worker_1_epoch_35.keras'.\n",
            "MSE saved to S3 as model_checkpoints/worker_1_epoch_35_mse.txt.\n",
            "Model loaded from S3 bucket 'myhpcbucket-160903' with key 'model_checkpoints/worker_0_epoch_35.keras'.\n",
            "MSE model_checkpoints/worker_0_epoch_35_mse.txt loaded from S3.\n",
            "Model weights averaged using custom CUDA kernel.\n",
            "Model saved to S3 bucket 'myhpcbucket-160903' with key 'model_checkpoints/averaged_epoch_35.keras'.\n",
            "Models synchronized and averaged at epoch 35.\n",
            "\u001b[1m85/85\u001b[0m \u001b[32m━━━━━━━━━━━━━━━━━━━━\u001b[0m\u001b[37m\u001b[0m \u001b[1m11s\u001b[0m 134ms/step - loss: 0.0015\n",
            "Epoch 36/50\n",
            "\u001b[1m85/85\u001b[0m \u001b[32m━━━━━━━━━━━━━━━━━━━━\u001b[0m\u001b[37m\u001b[0m \u001b[1m14s\u001b[0m 53ms/step - loss: 0.0016\n",
            "Epoch 37/50\n",
            "\u001b[1m85/85\u001b[0m \u001b[32m━━━━━━━━━━━━━━━━━━━━\u001b[0m\u001b[37m\u001b[0m \u001b[1m4s\u001b[0m 43ms/step - loss: 0.0018\n",
            "Epoch 38/50\n",
            "\u001b[1m85/85\u001b[0m \u001b[32m━━━━━━━━━━━━━━━━━━━━\u001b[0m\u001b[37m\u001b[0m \u001b[1m4s\u001b[0m 43ms/step - loss: 0.0017\n",
            "Epoch 39/50\n",
            "\u001b[1m85/85\u001b[0m \u001b[32m━━━━━━━━━━━━━━━━━━━━\u001b[0m\u001b[37m\u001b[0m \u001b[1m4s\u001b[0m 48ms/step - loss: 0.0016\n",
            "Epoch 40/50\n",
            "\u001b[1m84/85\u001b[0m \u001b[32m━━━━━━━━━━━━━━━━━━━\u001b[0m\u001b[37m━\u001b[0m \u001b[1m0s\u001b[0m 43ms/step - loss: 0.0016\n",
            "Epoch 40: Starting model synchronization.\n",
            "\u001b[1m85/85\u001b[0m \u001b[32m━━━━━━━━━━━━━━━━━━━━\u001b[0m\u001b[37m\u001b[0m \u001b[1m1s\u001b[0m 15ms/step\n",
            "GPU-Accelerated MSE at epoch 40: 0.0007223835564218462\n",
            "Model saved to S3 bucket 'myhpcbucket-160903' with key 'model_checkpoints/worker_1_epoch_40.keras'.\n",
            "MSE saved to S3 as model_checkpoints/worker_1_epoch_40_mse.txt.\n",
            "Model loaded from S3 bucket 'myhpcbucket-160903' with key 'model_checkpoints/worker_0_epoch_40.keras'.\n",
            "MSE model_checkpoints/worker_0_epoch_40_mse.txt loaded from S3.\n",
            "Model weights averaged using custom CUDA kernel.\n",
            "Model saved to S3 bucket 'myhpcbucket-160903' with key 'model_checkpoints/averaged_epoch_40.keras'.\n",
            "Models synchronized and averaged at epoch 40.\n",
            "\u001b[1m85/85\u001b[0m \u001b[32m━━━━━━━━━━━━━━━━━━━━\u001b[0m\u001b[37m\u001b[0m \u001b[1m11s\u001b[0m 116ms/step - loss: 0.0016\n",
            "Epoch 41/50\n",
            "\u001b[1m85/85\u001b[0m \u001b[32m━━━━━━━━━━━━━━━━━━━━\u001b[0m\u001b[37m\u001b[0m \u001b[1m4s\u001b[0m 48ms/step - loss: 0.0015\n",
            "Epoch 42/50\n",
            "\u001b[1m85/85\u001b[0m \u001b[32m━━━━━━━━━━━━━━━━━━━━\u001b[0m\u001b[37m\u001b[0m \u001b[1m4s\u001b[0m 44ms/step - loss: 0.0016\n",
            "Epoch 43/50\n",
            "\u001b[1m85/85\u001b[0m \u001b[32m━━━━━━━━━━━━━━━━━━━━\u001b[0m\u001b[37m\u001b[0m \u001b[1m4s\u001b[0m 44ms/step - loss: 0.0018\n",
            "Epoch 44/50\n",
            "\u001b[1m85/85\u001b[0m \u001b[32m━━━━━━━━━━━━━━━━━━━━\u001b[0m\u001b[37m\u001b[0m \u001b[1m5s\u001b[0m 44ms/step - loss: 0.0014\n",
            "Epoch 45/50\n",
            "\u001b[1m84/85\u001b[0m \u001b[32m━━━━━━━━━━━━━━━━━━━\u001b[0m\u001b[37m━\u001b[0m \u001b[1m0s\u001b[0m 44ms/step - loss: 0.0016\n",
            "Epoch 45: Starting model synchronization.\n",
            "\u001b[1m85/85\u001b[0m \u001b[32m━━━━━━━━━━━━━━━━━━━━\u001b[0m\u001b[37m\u001b[0m \u001b[1m1s\u001b[0m 15ms/step\n",
            "GPU-Accelerated MSE at epoch 45: 0.0007274027448147535\n",
            "Model saved to S3 bucket 'myhpcbucket-160903' with key 'model_checkpoints/worker_1_epoch_45.keras'.\n",
            "MSE saved to S3 as model_checkpoints/worker_1_epoch_45_mse.txt.\n",
            "Model loaded from S3 bucket 'myhpcbucket-160903' with key 'model_checkpoints/worker_0_epoch_45.keras'.\n",
            "MSE model_checkpoints/worker_0_epoch_45_mse.txt loaded from S3.\n",
            "Model weights averaged using custom CUDA kernel.\n",
            "Model saved to S3 bucket 'myhpcbucket-160903' with key 'model_checkpoints/averaged_epoch_45.keras'.\n",
            "Models synchronized and averaged at epoch 45.\n",
            "\u001b[1m85/85\u001b[0m \u001b[32m━━━━━━━━━━━━━━━━━━━━\u001b[0m\u001b[37m\u001b[0m \u001b[1m12s\u001b[0m 130ms/step - loss: 0.0016\n",
            "Epoch 46/50\n",
            "\u001b[1m85/85\u001b[0m \u001b[32m━━━━━━━━━━━━━━━━━━━━\u001b[0m\u001b[37m\u001b[0m \u001b[1m13s\u001b[0m 44ms/step - loss: 0.0016\n",
            "Epoch 47/50\n",
            "\u001b[1m85/85\u001b[0m \u001b[32m━━━━━━━━━━━━━━━━━━━━\u001b[0m\u001b[37m\u001b[0m \u001b[1m5s\u001b[0m 45ms/step - loss: 0.0017\n",
            "Epoch 48/50\n",
            "\u001b[1m85/85\u001b[0m \u001b[32m━━━━━━━━━━━━━━━━━━━━\u001b[0m\u001b[37m\u001b[0m \u001b[1m4s\u001b[0m 48ms/step - loss: 0.0014\n",
            "Epoch 49/50\n",
            "\u001b[1m85/85\u001b[0m \u001b[32m━━━━━━━━━━━━━━━━━━━━\u001b[0m\u001b[37m\u001b[0m \u001b[1m4s\u001b[0m 44ms/step - loss: 0.0016\n",
            "Epoch 50/50\n",
            "\u001b[1m84/85\u001b[0m \u001b[32m━━━━━━━━━━━━━━━━━━━\u001b[0m\u001b[37m━\u001b[0m \u001b[1m0s\u001b[0m 46ms/step - loss: 0.0016\n",
            "Epoch 50: Starting model synchronization.\n",
            "\u001b[1m85/85\u001b[0m \u001b[32m━━━━━━━━━━━━━━━━━━━━\u001b[0m\u001b[37m\u001b[0m \u001b[1m2s\u001b[0m 21ms/step\n",
            "GPU-Accelerated MSE at epoch 50: 0.0005646218196488917\n",
            "Model saved to S3 bucket 'myhpcbucket-160903' with key 'model_checkpoints/worker_1_epoch_50.keras'.\n",
            "MSE saved to S3 as model_checkpoints/worker_1_epoch_50_mse.txt.\n",
            "Model loaded from S3 bucket 'myhpcbucket-160903' with key 'model_checkpoints/worker_0_epoch_50.keras'.\n",
            "MSE model_checkpoints/worker_0_epoch_50_mse.txt loaded from S3.\n",
            "Model weights averaged using custom CUDA kernel.\n",
            "Model saved to S3 bucket 'myhpcbucket-160903' with key 'model_checkpoints/averaged_epoch_50.keras'.\n",
            "Models synchronized and averaged at epoch 50.\n",
            "\u001b[1m85/85\u001b[0m \u001b[32m━━━━━━━━━━━━━━━━━━━━\u001b[0m\u001b[37m\u001b[0m \u001b[1m12s\u001b[0m 126ms/step - loss: 0.0016\n",
            "Training completed in 384.45 seconds.\n"
          ]
        }
      ],
      "source": [
        "def main():\n",
        "    # Verify S3 credentials before proceeding\n",
        "    if not verify_s3_credentials(s3_client):\n",
        "        print(\"Cannot proceed with training due to credential issues.\")\n",
        "        return\n",
        "\n",
        "    # Initialize PyCUDA MSE Computer\n",
        "    mse_computer = PyCUDAMSEComputer()\n",
        "\n",
        "    # Assign worker ID\n",
        "    worker_id = 'worker_2'\n",
        "\n",
        "    # Create synchronization callback\n",
        "    sync_callback = PyCUDASynchronizationCallback(\n",
        "        worker_id,\n",
        "        s3_client,\n",
        "        s3_bucket_name,\n",
        "        sync_epochs=5,\n",
        "        mse_computer=mse_computer\n",
        "    )\n",
        "\n",
        "    # Compile and train model\n",
        "    model.compile(loss='mean_squared_error', optimizer='adam')\n",
        "    start_time = time.time()\n",
        "\n",
        "    model.fit(\n",
        "        x_train, y_train,\n",
        "        epochs=50,\n",
        "        batch_size=32,\n",
        "        callbacks=[sync_callback]\n",
        "    )\n",
        "\n",
        "    end_time = time.time()\n",
        "\n",
        "    elapsed_time = end_time - start_time\n",
        "\n",
        "    print(f\"Training completed in {elapsed_time:.2f} seconds.\")\n",
        "\n",
        "main()"
      ]
    },
    {
      "cell_type": "code",
      "execution_count": null,
      "metadata": {
        "id": "bbwim-oDz_em"
      },
      "outputs": [],
      "source": [
        "model.save('keras_model.h5')"
      ]
    },
    {
      "cell_type": "markdown",
      "metadata": {
        "id": "UomIogffGbgm"
      },
      "source": [
        "# Testing the Model"
      ]
    },
    {
      "cell_type": "code",
      "execution_count": 42,
      "metadata": {
        "colab": {
          "base_uri": "https://localhost:8080/",
          "height": 206
        },
        "id": "13ggQP0IKUNM",
        "outputId": "681eb61d-b432-4695-dd98-5e0b827d04ba"
      },
      "outputs": [
        {
          "data": {
            "application/vnd.google.colaboratory.intrinsic+json": {
              "summary": "{\n  \"name\": \"final_df\",\n  \"rows\": 805,\n  \"fields\": [\n    {\n      \"column\": \"GOOGL\",\n      \"properties\": {\n        \"dtype\": \"number\",\n        \"std\": 18.663368461062703,\n        \"min\": 75.54000091552734,\n        \"max\": 149.8385009765625,\n        \"num_unique_values\": 790,\n        \"samples\": [\n          94.51000213623047,\n          87.61299896240234,\n          137.42950439453125\n        ],\n        \"semantic_type\": \"\",\n        \"description\": \"\"\n      }\n    }\n  ]\n}",
              "type": "dataframe",
              "variable_name": "final_df"
            },
            "text/html": [
              "\n",
              "  <div id=\"df-227b72d1-866f-47ed-b54e-b3b8707f27e1\" class=\"colab-df-container\">\n",
              "    <div>\n",
              "<style scoped>\n",
              "    .dataframe tbody tr th:only-of-type {\n",
              "        vertical-align: middle;\n",
              "    }\n",
              "\n",
              "    .dataframe tbody tr th {\n",
              "        vertical-align: top;\n",
              "    }\n",
              "\n",
              "    .dataframe thead th {\n",
              "        text-align: right;\n",
              "    }\n",
              "</style>\n",
              "<table border=\"1\" class=\"dataframe\">\n",
              "  <thead>\n",
              "    <tr style=\"text-align: right;\">\n",
              "      <th>Ticker</th>\n",
              "      <th>GOOGL</th>\n",
              "    </tr>\n",
              "  </thead>\n",
              "  <tbody>\n",
              "    <tr>\n",
              "      <th>0</th>\n",
              "      <td>76.497498</td>\n",
              "    </tr>\n",
              "    <tr>\n",
              "      <th>1</th>\n",
              "      <td>77.554001</td>\n",
              "    </tr>\n",
              "    <tr>\n",
              "      <th>2</th>\n",
              "      <td>79.299500</td>\n",
              "    </tr>\n",
              "    <tr>\n",
              "      <th>3</th>\n",
              "      <td>80.333000</td>\n",
              "    </tr>\n",
              "    <tr>\n",
              "      <th>4</th>\n",
              "      <td>81.649002</td>\n",
              "    </tr>\n",
              "  </tbody>\n",
              "</table>\n",
              "</div>\n",
              "    <div class=\"colab-df-buttons\">\n",
              "\n",
              "  <div class=\"colab-df-container\">\n",
              "    <button class=\"colab-df-convert\" onclick=\"convertToInteractive('df-227b72d1-866f-47ed-b54e-b3b8707f27e1')\"\n",
              "            title=\"Convert this dataframe to an interactive table.\"\n",
              "            style=\"display:none;\">\n",
              "\n",
              "  <svg xmlns=\"http://www.w3.org/2000/svg\" height=\"24px\" viewBox=\"0 -960 960 960\">\n",
              "    <path d=\"M120-120v-720h720v720H120Zm60-500h600v-160H180v160Zm220 220h160v-160H400v160Zm0 220h160v-160H400v160ZM180-400h160v-160H180v160Zm440 0h160v-160H620v160ZM180-180h160v-160H180v160Zm440 0h160v-160H620v160Z\"/>\n",
              "  </svg>\n",
              "    </button>\n",
              "\n",
              "  <style>\n",
              "    .colab-df-container {\n",
              "      display:flex;\n",
              "      gap: 12px;\n",
              "    }\n",
              "\n",
              "    .colab-df-convert {\n",
              "      background-color: #E8F0FE;\n",
              "      border: none;\n",
              "      border-radius: 50%;\n",
              "      cursor: pointer;\n",
              "      display: none;\n",
              "      fill: #1967D2;\n",
              "      height: 32px;\n",
              "      padding: 0 0 0 0;\n",
              "      width: 32px;\n",
              "    }\n",
              "\n",
              "    .colab-df-convert:hover {\n",
              "      background-color: #E2EBFA;\n",
              "      box-shadow: 0px 1px 2px rgba(60, 64, 67, 0.3), 0px 1px 3px 1px rgba(60, 64, 67, 0.15);\n",
              "      fill: #174EA6;\n",
              "    }\n",
              "\n",
              "    .colab-df-buttons div {\n",
              "      margin-bottom: 4px;\n",
              "    }\n",
              "\n",
              "    [theme=dark] .colab-df-convert {\n",
              "      background-color: #3B4455;\n",
              "      fill: #D2E3FC;\n",
              "    }\n",
              "\n",
              "    [theme=dark] .colab-df-convert:hover {\n",
              "      background-color: #434B5C;\n",
              "      box-shadow: 0px 1px 3px 1px rgba(0, 0, 0, 0.15);\n",
              "      filter: drop-shadow(0px 1px 2px rgba(0, 0, 0, 0.3));\n",
              "      fill: #FFFFFF;\n",
              "    }\n",
              "  </style>\n",
              "\n",
              "    <script>\n",
              "      const buttonEl =\n",
              "        document.querySelector('#df-227b72d1-866f-47ed-b54e-b3b8707f27e1 button.colab-df-convert');\n",
              "      buttonEl.style.display =\n",
              "        google.colab.kernel.accessAllowed ? 'block' : 'none';\n",
              "\n",
              "      async function convertToInteractive(key) {\n",
              "        const element = document.querySelector('#df-227b72d1-866f-47ed-b54e-b3b8707f27e1');\n",
              "        const dataTable =\n",
              "          await google.colab.kernel.invokeFunction('convertToInteractive',\n",
              "                                                    [key], {});\n",
              "        if (!dataTable) return;\n",
              "\n",
              "        const docLinkHtml = 'Like what you see? Visit the ' +\n",
              "          '<a target=\"_blank\" href=https://colab.research.google.com/notebooks/data_table.ipynb>data table notebook</a>'\n",
              "          + ' to learn more about interactive tables.';\n",
              "        element.innerHTML = '';\n",
              "        dataTable['output_type'] = 'display_data';\n",
              "        await google.colab.output.renderOutput(dataTable, element);\n",
              "        const docLink = document.createElement('div');\n",
              "        docLink.innerHTML = docLinkHtml;\n",
              "        element.appendChild(docLink);\n",
              "      }\n",
              "    </script>\n",
              "  </div>\n",
              "\n",
              "\n",
              "<div id=\"df-1d3b6de1-8483-49d5-b081-5ccd72a63f36\">\n",
              "  <button class=\"colab-df-quickchart\" onclick=\"quickchart('df-1d3b6de1-8483-49d5-b081-5ccd72a63f36')\"\n",
              "            title=\"Suggest charts\"\n",
              "            style=\"display:none;\">\n",
              "\n",
              "<svg xmlns=\"http://www.w3.org/2000/svg\" height=\"24px\"viewBox=\"0 0 24 24\"\n",
              "     width=\"24px\">\n",
              "    <g>\n",
              "        <path d=\"M19 3H5c-1.1 0-2 .9-2 2v14c0 1.1.9 2 2 2h14c1.1 0 2-.9 2-2V5c0-1.1-.9-2-2-2zM9 17H7v-7h2v7zm4 0h-2V7h2v10zm4 0h-2v-4h2v4z\"/>\n",
              "    </g>\n",
              "</svg>\n",
              "  </button>\n",
              "\n",
              "<style>\n",
              "  .colab-df-quickchart {\n",
              "      --bg-color: #E8F0FE;\n",
              "      --fill-color: #1967D2;\n",
              "      --hover-bg-color: #E2EBFA;\n",
              "      --hover-fill-color: #174EA6;\n",
              "      --disabled-fill-color: #AAA;\n",
              "      --disabled-bg-color: #DDD;\n",
              "  }\n",
              "\n",
              "  [theme=dark] .colab-df-quickchart {\n",
              "      --bg-color: #3B4455;\n",
              "      --fill-color: #D2E3FC;\n",
              "      --hover-bg-color: #434B5C;\n",
              "      --hover-fill-color: #FFFFFF;\n",
              "      --disabled-bg-color: #3B4455;\n",
              "      --disabled-fill-color: #666;\n",
              "  }\n",
              "\n",
              "  .colab-df-quickchart {\n",
              "    background-color: var(--bg-color);\n",
              "    border: none;\n",
              "    border-radius: 50%;\n",
              "    cursor: pointer;\n",
              "    display: none;\n",
              "    fill: var(--fill-color);\n",
              "    height: 32px;\n",
              "    padding: 0;\n",
              "    width: 32px;\n",
              "  }\n",
              "\n",
              "  .colab-df-quickchart:hover {\n",
              "    background-color: var(--hover-bg-color);\n",
              "    box-shadow: 0 1px 2px rgba(60, 64, 67, 0.3), 0 1px 3px 1px rgba(60, 64, 67, 0.15);\n",
              "    fill: var(--button-hover-fill-color);\n",
              "  }\n",
              "\n",
              "  .colab-df-quickchart-complete:disabled,\n",
              "  .colab-df-quickchart-complete:disabled:hover {\n",
              "    background-color: var(--disabled-bg-color);\n",
              "    fill: var(--disabled-fill-color);\n",
              "    box-shadow: none;\n",
              "  }\n",
              "\n",
              "  .colab-df-spinner {\n",
              "    border: 2px solid var(--fill-color);\n",
              "    border-color: transparent;\n",
              "    border-bottom-color: var(--fill-color);\n",
              "    animation:\n",
              "      spin 1s steps(1) infinite;\n",
              "  }\n",
              "\n",
              "  @keyframes spin {\n",
              "    0% {\n",
              "      border-color: transparent;\n",
              "      border-bottom-color: var(--fill-color);\n",
              "      border-left-color: var(--fill-color);\n",
              "    }\n",
              "    20% {\n",
              "      border-color: transparent;\n",
              "      border-left-color: var(--fill-color);\n",
              "      border-top-color: var(--fill-color);\n",
              "    }\n",
              "    30% {\n",
              "      border-color: transparent;\n",
              "      border-left-color: var(--fill-color);\n",
              "      border-top-color: var(--fill-color);\n",
              "      border-right-color: var(--fill-color);\n",
              "    }\n",
              "    40% {\n",
              "      border-color: transparent;\n",
              "      border-right-color: var(--fill-color);\n",
              "      border-top-color: var(--fill-color);\n",
              "    }\n",
              "    60% {\n",
              "      border-color: transparent;\n",
              "      border-right-color: var(--fill-color);\n",
              "    }\n",
              "    80% {\n",
              "      border-color: transparent;\n",
              "      border-right-color: var(--fill-color);\n",
              "      border-bottom-color: var(--fill-color);\n",
              "    }\n",
              "    90% {\n",
              "      border-color: transparent;\n",
              "      border-bottom-color: var(--fill-color);\n",
              "    }\n",
              "  }\n",
              "</style>\n",
              "\n",
              "  <script>\n",
              "    async function quickchart(key) {\n",
              "      const quickchartButtonEl =\n",
              "        document.querySelector('#' + key + ' button');\n",
              "      quickchartButtonEl.disabled = true;  // To prevent multiple clicks.\n",
              "      quickchartButtonEl.classList.add('colab-df-spinner');\n",
              "      try {\n",
              "        const charts = await google.colab.kernel.invokeFunction(\n",
              "            'suggestCharts', [key], {});\n",
              "      } catch (error) {\n",
              "        console.error('Error during call to suggestCharts:', error);\n",
              "      }\n",
              "      quickchartButtonEl.classList.remove('colab-df-spinner');\n",
              "      quickchartButtonEl.classList.add('colab-df-quickchart-complete');\n",
              "    }\n",
              "    (() => {\n",
              "      let quickchartButtonEl =\n",
              "        document.querySelector('#df-1d3b6de1-8483-49d5-b081-5ccd72a63f36 button');\n",
              "      quickchartButtonEl.style.display =\n",
              "        google.colab.kernel.accessAllowed ? 'block' : 'none';\n",
              "    })();\n",
              "  </script>\n",
              "</div>\n",
              "\n",
              "    </div>\n",
              "  </div>\n"
            ],
            "text/plain": [
              "Ticker      GOOGL\n",
              "0       76.497498\n",
              "1       77.554001\n",
              "2       79.299500\n",
              "3       80.333000\n",
              "4       81.649002"
            ]
          },
          "execution_count": 42,
          "metadata": {},
          "output_type": "execute_result"
        }
      ],
      "source": [
        "past_100_days = train_df.tail(100)\n",
        "final_df = past_100_days._append(test_df, ignore_index=True)\n",
        "final_df.head()"
      ]
    },
    {
      "cell_type": "code",
      "execution_count": 43,
      "metadata": {
        "colab": {
          "base_uri": "https://localhost:8080/"
        },
        "id": "cmb09IAqKWSS",
        "outputId": "412a9132-8faa-4f30-d0a0-51e153fd6ce7"
      },
      "outputs": [
        {
          "name": "stdout",
          "output_type": "stream",
          "text": [
            "Scaled data (array):\n",
            "[[0.01288716]\n",
            " [0.02710687]\n",
            " [0.05059993]\n",
            " [0.06451004]\n",
            " [0.0822224 ]]\n",
            "Input data shape: (805, 1)\n"
          ]
        }
      ],
      "source": [
        "# Scaling the prediction data\n",
        "\n",
        "# Define the CUDA kernel\n",
        "cuda_minmax_kernel = \"\"\"\n",
        "__global__ void min_max_scaler(float *data, float *min_vals, float *max_vals, int rows, int cols) {\n",
        "    int idx = threadIdx.x + blockIdx.x * blockDim.x;\n",
        "    int col = idx % cols;\n",
        "    int row = idx / cols;\n",
        "\n",
        "    if (row < rows && col < cols) {\n",
        "        float min_val = min_vals[col];\n",
        "        float max_val = max_vals[col];\n",
        "        data[idx] = (data[idx] - min_val) / (max_val - min_val);\n",
        "    }\n",
        "}\n",
        "\"\"\"\n",
        "\n",
        "mod = SourceModule(cuda_minmax_kernel)\n",
        "min_max_scaler = mod.get_function(\"min_max_scaler\")\n",
        "# Assuming final_df is a Pandas DataFrame\n",
        "final_df_arr = final_df.to_numpy().astype(np.float32)  # Convert to NumPy array\n",
        "rows, cols = final_df_arr.shape\n",
        "\n",
        "# Calculate min and max values per column for final_df\n",
        "min_vals_final = final_df_arr.min(axis=0).astype(np.float32)\n",
        "max_vals_final = final_df_arr.max(axis=0).astype(np.float32)\n",
        "\n",
        "# Allocate GPU memory and transfer data\n",
        "final_df_gpu = cuda.mem_alloc(final_df_arr.nbytes)\n",
        "cuda.memcpy_htod(final_df_gpu, final_df_arr)\n",
        "\n",
        "min_vals_final_gpu = cuda.mem_alloc(min_vals_final.nbytes)\n",
        "cuda.memcpy_htod(min_vals_final_gpu, min_vals_final)\n",
        "\n",
        "max_vals_final_gpu = cuda.mem_alloc(max_vals_final.nbytes)\n",
        "cuda.memcpy_htod(max_vals_final_gpu, max_vals_final)\n",
        "\n",
        "# Launch the CUDA kernel\n",
        "threads_per_block = 256\n",
        "blocks_per_grid = (rows * cols + threads_per_block - 1) // threads_per_block\n",
        "min_max_scaler(final_df_gpu, min_vals_final_gpu, max_vals_final_gpu, np.int32(rows), np.int32(cols),\n",
        "               block=(threads_per_block, 1, 1), grid=(blocks_per_grid, 1))\n",
        "\n",
        "# Copy back the scaled data\n",
        "final_df_scaled = np.empty_like(final_df_arr)\n",
        "cuda.memcpy_dtoh(final_df_scaled, final_df_gpu)\n",
        "\n",
        "# `final_df_scaled` is now a scaled NumPy array\n",
        "input_data = final_df_scaled  # Keep as NumPy array\n",
        "\n",
        "# Display the first few rows of the scaled array\n",
        "print(\"Scaled data (array):\")\n",
        "print(input_data[:5])  # Print the first 5 rows\n",
        "print(\"Input data shape:\", input_data.shape)\n"
      ]
    },
    {
      "cell_type": "code",
      "execution_count": 44,
      "metadata": {
        "colab": {
          "base_uri": "https://localhost:8080/",
          "height": 560
        },
        "id": "pjzHTfbl0DRS",
        "outputId": "31a701a6-911d-462a-d990-3a02499c7c10"
      },
      "outputs": [
        {
          "name": "stdout",
          "output_type": "stream",
          "text": [
            "\u001b[1m23/23\u001b[0m \u001b[32m━━━━━━━━━━━━━━━━━━━━\u001b[0m\u001b[37m\u001b[0m \u001b[1m1s\u001b[0m 49ms/step\n"
          ]
        },
        {
          "data": {
            "image/png": "[encoded data removed]",
            "text/plain": [
              "<Figure size 1200x600 with 1 Axes>"
            ]
          },
          "metadata": {},
          "output_type": "display_data"
        }
      ],
      "source": [
        "x_test = []\n",
        "y_test = []\n",
        "for i in range(100, input_data.shape[0]):\n",
        "    x_test.append(input_data[i-100: i])\n",
        "    y_test.append(input_data[i, 0])\n",
        "x_test, y_test = np.array(x_test), np.array(y_test)\n",
        "x_test.shape, y_test.shape\n",
        "y_pred = model.predict(x_test)\n",
        "\n",
        "final_df_arr = final_df.to_numpy().astype(np.float32)\n",
        "rows, cols = final_df_arr.shape\n",
        "\n",
        "# Calculate min and max values per column for final_df\n",
        "min_vals_final = final_df_arr.min(axis=0).astype(np.float32)\n",
        "max_vals_final = final_df_arr.max(axis=0).astype(np.float32)\n",
        "\n",
        "# Calculate the scale values for each feature\n",
        "scale = 1.0 / (max_vals_final - min_vals_final)\n",
        "scale_factor = 1/scale\n",
        "y_pred = y_pred*scale_factor\n",
        "y_test = y_test*scale_factor\n",
        "\n",
        "\n",
        "plt.figure(figsize=(12, 6))\n",
        "plt.plot(y_test, 'g', label=\"Original Price\")\n",
        "plt.plot(y_pred, 'r', label=\"Predicted Price\")\n",
        "plt.xlabel(\"Time\")\n",
        "plt.ylabel(\"Price\")\n",
        "plt.legend()\n",
        "plt.show()"
      ]
    }
  ],
  "metadata": {
    "accelerator": "GPU",
    "colab": {
      "gpuType": "T4",
      "provenance": []
    },
    "kernelspec": {
      "display_name": "Python 3",
      "name": "python3"
    },
    "language_info": {
      "name": "python"
    }
  },
  "nbformat": 4,
  "nbformat_minor": 0
}
